{
  "cells": [
    {
      "cell_type": "markdown",
      "metadata": {
        "id": "2VMWsXu9v_PQ"
      },
      "source": [
        "# **STP 598 Final Project Code**\n"
      ]
    },
    {
      "cell_type": "markdown",
      "metadata": {
        "id": "mZSK2k3OyEDu"
      },
      "source": [
        "Hibah Usmani (1218793810)  \n",
        "Shreykumar Savsani (1228071834)  \n",
        "Arizona State University  \n",
        "Dr. Shiwei Lan  "
      ]
    },
    {
      "cell_type": "markdown",
      "metadata": {
        "id": "KUDJwH-wx8Pd"
      },
      "source": [
        "## Packages"
      ]
    },
    {
      "cell_type": "markdown",
      "metadata": {
        "id": "7q4leQybwNah"
      },
      "source": [
        "Import packages necessary for the project."
      ]
    },
    {
      "cell_type": "code",
      "execution_count": 12,
      "metadata": {},
      "outputs": [
        {
          "name": "stdout",
          "output_type": "stream",
          "text": [
            "Requirement already satisfied: pandas in c:\\users\\shrey\\anaconda3\\envs\\stp_598\\lib\\site-packages (2.3.2)\n",
            "Requirement already satisfied: numpy in c:\\users\\shrey\\anaconda3\\envs\\stp_598\\lib\\site-packages (1.26.4)\n",
            "Requirement already satisfied: matplotlib in c:\\users\\shrey\\anaconda3\\envs\\stp_598\\lib\\site-packages (3.10.6)\n",
            "Requirement already satisfied: python-dateutil>=2.8.2 in c:\\users\\shrey\\anaconda3\\envs\\stp_598\\lib\\site-packages (from pandas) (2.9.0.post0)\n",
            "Requirement already satisfied: pytz>=2020.1 in c:\\users\\shrey\\anaconda3\\envs\\stp_598\\lib\\site-packages (from pandas) (2025.2)\n",
            "Requirement already satisfied: tzdata>=2022.7 in c:\\users\\shrey\\anaconda3\\envs\\stp_598\\lib\\site-packages (from pandas) (2025.2)\n",
            "Requirement already satisfied: contourpy>=1.0.1 in c:\\users\\shrey\\anaconda3\\envs\\stp_598\\lib\\site-packages (from matplotlib) (1.3.3)\n",
            "Requirement already satisfied: cycler>=0.10 in c:\\users\\shrey\\anaconda3\\envs\\stp_598\\lib\\site-packages (from matplotlib) (0.12.1)\n",
            "Requirement already satisfied: fonttools>=4.22.0 in c:\\users\\shrey\\anaconda3\\envs\\stp_598\\lib\\site-packages (from matplotlib) (4.59.2)\n",
            "Requirement already satisfied: kiwisolver>=1.3.1 in c:\\users\\shrey\\anaconda3\\envs\\stp_598\\lib\\site-packages (from matplotlib) (1.4.9)\n",
            "Requirement already satisfied: packaging>=20.0 in c:\\users\\shrey\\anaconda3\\envs\\stp_598\\lib\\site-packages (from matplotlib) (24.1)\n",
            "Requirement already satisfied: pillow>=8 in c:\\users\\shrey\\anaconda3\\envs\\stp_598\\lib\\site-packages (from matplotlib) (11.3.0)\n",
            "Requirement already satisfied: pyparsing>=2.3.1 in c:\\users\\shrey\\anaconda3\\envs\\stp_598\\lib\\site-packages (from matplotlib) (3.2.3)\n",
            "Requirement already satisfied: six>=1.5 in c:\\users\\shrey\\anaconda3\\envs\\stp_598\\lib\\site-packages (from python-dateutil>=2.8.2->pandas) (1.16.0)\n",
            "Note: you may need to restart the kernel to use updated packages.\n"
          ]
        }
      ],
      "source": [
        "pip install pandas numpy matplotlib"
      ]
    },
    {
      "cell_type": "code",
      "execution_count": 13,
      "metadata": {
        "id": "6pjnsw-euWRl"
      },
      "outputs": [],
      "source": [
        "import pandas as pd\n",
        "import numpy as np\n",
        "import matplotlib.pyplot as plt"
      ]
    },
    {
      "cell_type": "code",
      "execution_count": 14,
      "metadata": {},
      "outputs": [
        {
          "name": "stdout",
          "output_type": "stream",
          "text": [
            "Requirement already satisfied: scikit-learn in c:\\users\\shrey\\anaconda3\\envs\\stp_598\\lib\\site-packages (1.7.1)\n",
            "Requirement already satisfied: numpy>=1.22.0 in c:\\users\\shrey\\anaconda3\\envs\\stp_598\\lib\\site-packages (from scikit-learn) (1.26.4)\n",
            "Requirement already satisfied: scipy>=1.8.0 in c:\\users\\shrey\\anaconda3\\envs\\stp_598\\lib\\site-packages (from scikit-learn) (1.16.1)\n",
            "Requirement already satisfied: joblib>=1.2.0 in c:\\users\\shrey\\anaconda3\\envs\\stp_598\\lib\\site-packages (from scikit-learn) (1.5.2)\n",
            "Requirement already satisfied: threadpoolctl>=3.1.0 in c:\\users\\shrey\\anaconda3\\envs\\stp_598\\lib\\site-packages (from scikit-learn) (3.6.0)\n",
            "Note: you may need to restart the kernel to use updated packages.\n"
          ]
        }
      ],
      "source": [
        "pip install scikit-learn"
      ]
    },
    {
      "cell_type": "code",
      "execution_count": 15,
      "metadata": {
        "id": "cZeEaBdmyBKB"
      },
      "outputs": [],
      "source": [
        "from sklearn.model_selection import train_test_split\n",
        "from sklearn.linear_model import LassoCV\n",
        "from sklearn.ensemble import RandomForestClassifier\n",
        "from sklearn.metrics import roc_auc_score, recall_score, precision_score, accuracy_score, f1_score\n",
        "from sklearn import linear_model\n",
        "from sklearn.model_selection import RandomizedSearchCV"
      ]
    },
    {
      "cell_type": "markdown",
      "metadata": {
        "id": "lVe-L7bjx-iE"
      },
      "source": [
        "## Load Data"
      ]
    },
    {
      "cell_type": "markdown",
      "metadata": {
        "id": "tY-NCUDdwO_j"
      },
      "source": [
        "Load the data from Google Drive. Then, view the first few lines of the data and the names of the columns."
      ]
    },
    {
      "cell_type": "code",
      "execution_count": 16,
      "metadata": {
        "id": "HzaOqmc2tQ5S"
      },
      "outputs": [],
      "source": [
        "# load csv file as pandas dataframe\n",
        "df = pd.read_csv(\"credit-card-data.csv\", header = 1)\n",
        "\n",
        "# rename last column to shorter name 'target'\n",
        "df.rename(columns = {'default payment next month': 'target'}, inplace = True)"
      ]
    },
    {
      "cell_type": "code",
      "execution_count": 17,
      "metadata": {
        "colab": {
          "base_uri": "https://localhost:8080/",
          "height": 256
        },
        "id": "JfbnfpCxw0yp",
        "outputId": "8fb43a44-1c1e-4159-f339-282bf8223ba1"
      },
      "outputs": [
        {
          "data": {
            "text/html": [
              "<div>\n",
              "<style scoped>\n",
              "    .dataframe tbody tr th:only-of-type {\n",
              "        vertical-align: middle;\n",
              "    }\n",
              "\n",
              "    .dataframe tbody tr th {\n",
              "        vertical-align: top;\n",
              "    }\n",
              "\n",
              "    .dataframe thead th {\n",
              "        text-align: right;\n",
              "    }\n",
              "</style>\n",
              "<table border=\"1\" class=\"dataframe\">\n",
              "  <thead>\n",
              "    <tr style=\"text-align: right;\">\n",
              "      <th></th>\n",
              "      <th>ID</th>\n",
              "      <th>LIMIT_BAL</th>\n",
              "      <th>SEX</th>\n",
              "      <th>EDUCATION</th>\n",
              "      <th>MARRIAGE</th>\n",
              "      <th>AGE</th>\n",
              "      <th>PAY_0</th>\n",
              "      <th>PAY_2</th>\n",
              "      <th>PAY_3</th>\n",
              "      <th>PAY_4</th>\n",
              "      <th>...</th>\n",
              "      <th>BILL_AMT4</th>\n",
              "      <th>BILL_AMT5</th>\n",
              "      <th>BILL_AMT6</th>\n",
              "      <th>PAY_AMT1</th>\n",
              "      <th>PAY_AMT2</th>\n",
              "      <th>PAY_AMT3</th>\n",
              "      <th>PAY_AMT4</th>\n",
              "      <th>PAY_AMT5</th>\n",
              "      <th>PAY_AMT6</th>\n",
              "      <th>target</th>\n",
              "    </tr>\n",
              "  </thead>\n",
              "  <tbody>\n",
              "    <tr>\n",
              "      <th>0</th>\n",
              "      <td>1</td>\n",
              "      <td>20000</td>\n",
              "      <td>2</td>\n",
              "      <td>2</td>\n",
              "      <td>1</td>\n",
              "      <td>24</td>\n",
              "      <td>2</td>\n",
              "      <td>2</td>\n",
              "      <td>-1</td>\n",
              "      <td>-1</td>\n",
              "      <td>...</td>\n",
              "      <td>0</td>\n",
              "      <td>0</td>\n",
              "      <td>0</td>\n",
              "      <td>0</td>\n",
              "      <td>689</td>\n",
              "      <td>0</td>\n",
              "      <td>0</td>\n",
              "      <td>0</td>\n",
              "      <td>0</td>\n",
              "      <td>1</td>\n",
              "    </tr>\n",
              "    <tr>\n",
              "      <th>1</th>\n",
              "      <td>2</td>\n",
              "      <td>120000</td>\n",
              "      <td>2</td>\n",
              "      <td>2</td>\n",
              "      <td>2</td>\n",
              "      <td>26</td>\n",
              "      <td>-1</td>\n",
              "      <td>2</td>\n",
              "      <td>0</td>\n",
              "      <td>0</td>\n",
              "      <td>...</td>\n",
              "      <td>3272</td>\n",
              "      <td>3455</td>\n",
              "      <td>3261</td>\n",
              "      <td>0</td>\n",
              "      <td>1000</td>\n",
              "      <td>1000</td>\n",
              "      <td>1000</td>\n",
              "      <td>0</td>\n",
              "      <td>2000</td>\n",
              "      <td>1</td>\n",
              "    </tr>\n",
              "    <tr>\n",
              "      <th>2</th>\n",
              "      <td>3</td>\n",
              "      <td>90000</td>\n",
              "      <td>2</td>\n",
              "      <td>2</td>\n",
              "      <td>2</td>\n",
              "      <td>34</td>\n",
              "      <td>0</td>\n",
              "      <td>0</td>\n",
              "      <td>0</td>\n",
              "      <td>0</td>\n",
              "      <td>...</td>\n",
              "      <td>14331</td>\n",
              "      <td>14948</td>\n",
              "      <td>15549</td>\n",
              "      <td>1518</td>\n",
              "      <td>1500</td>\n",
              "      <td>1000</td>\n",
              "      <td>1000</td>\n",
              "      <td>1000</td>\n",
              "      <td>5000</td>\n",
              "      <td>0</td>\n",
              "    </tr>\n",
              "    <tr>\n",
              "      <th>3</th>\n",
              "      <td>4</td>\n",
              "      <td>50000</td>\n",
              "      <td>2</td>\n",
              "      <td>2</td>\n",
              "      <td>1</td>\n",
              "      <td>37</td>\n",
              "      <td>0</td>\n",
              "      <td>0</td>\n",
              "      <td>0</td>\n",
              "      <td>0</td>\n",
              "      <td>...</td>\n",
              "      <td>28314</td>\n",
              "      <td>28959</td>\n",
              "      <td>29547</td>\n",
              "      <td>2000</td>\n",
              "      <td>2019</td>\n",
              "      <td>1200</td>\n",
              "      <td>1100</td>\n",
              "      <td>1069</td>\n",
              "      <td>1000</td>\n",
              "      <td>0</td>\n",
              "    </tr>\n",
              "    <tr>\n",
              "      <th>4</th>\n",
              "      <td>5</td>\n",
              "      <td>50000</td>\n",
              "      <td>1</td>\n",
              "      <td>2</td>\n",
              "      <td>1</td>\n",
              "      <td>57</td>\n",
              "      <td>-1</td>\n",
              "      <td>0</td>\n",
              "      <td>-1</td>\n",
              "      <td>0</td>\n",
              "      <td>...</td>\n",
              "      <td>20940</td>\n",
              "      <td>19146</td>\n",
              "      <td>19131</td>\n",
              "      <td>2000</td>\n",
              "      <td>36681</td>\n",
              "      <td>10000</td>\n",
              "      <td>9000</td>\n",
              "      <td>689</td>\n",
              "      <td>679</td>\n",
              "      <td>0</td>\n",
              "    </tr>\n",
              "  </tbody>\n",
              "</table>\n",
              "<p>5 rows × 25 columns</p>\n",
              "</div>"
            ],
            "text/plain": [
              "   ID  LIMIT_BAL  SEX  EDUCATION  MARRIAGE  AGE  PAY_0  PAY_2  PAY_3  PAY_4  \\\n",
              "0   1      20000    2          2         1   24      2      2     -1     -1   \n",
              "1   2     120000    2          2         2   26     -1      2      0      0   \n",
              "2   3      90000    2          2         2   34      0      0      0      0   \n",
              "3   4      50000    2          2         1   37      0      0      0      0   \n",
              "4   5      50000    1          2         1   57     -1      0     -1      0   \n",
              "\n",
              "   ...  BILL_AMT4  BILL_AMT5  BILL_AMT6  PAY_AMT1  PAY_AMT2  PAY_AMT3  \\\n",
              "0  ...          0          0          0         0       689         0   \n",
              "1  ...       3272       3455       3261         0      1000      1000   \n",
              "2  ...      14331      14948      15549      1518      1500      1000   \n",
              "3  ...      28314      28959      29547      2000      2019      1200   \n",
              "4  ...      20940      19146      19131      2000     36681     10000   \n",
              "\n",
              "   PAY_AMT4  PAY_AMT5  PAY_AMT6  target  \n",
              "0         0         0         0       1  \n",
              "1      1000         0      2000       1  \n",
              "2      1000      1000      5000       0  \n",
              "3      1100      1069      1000       0  \n",
              "4      9000       689       679       0  \n",
              "\n",
              "[5 rows x 25 columns]"
            ]
          },
          "execution_count": 17,
          "metadata": {},
          "output_type": "execute_result"
        }
      ],
      "source": [
        "# overview of data\n",
        "df.head()"
      ]
    },
    {
      "cell_type": "code",
      "execution_count": 18,
      "metadata": {
        "colab": {
          "base_uri": "https://localhost:8080/"
        },
        "id": "3pesrLCEw6Iw",
        "outputId": "a7cfd734-037a-4ccf-ecf9-c06173a39677"
      },
      "outputs": [
        {
          "data": {
            "text/plain": [
              "['ID',\n",
              " 'LIMIT_BAL',\n",
              " 'SEX',\n",
              " 'EDUCATION',\n",
              " 'MARRIAGE',\n",
              " 'AGE',\n",
              " 'PAY_0',\n",
              " 'PAY_2',\n",
              " 'PAY_3',\n",
              " 'PAY_4',\n",
              " 'PAY_5',\n",
              " 'PAY_6',\n",
              " 'BILL_AMT1',\n",
              " 'BILL_AMT2',\n",
              " 'BILL_AMT3',\n",
              " 'BILL_AMT4',\n",
              " 'BILL_AMT5',\n",
              " 'BILL_AMT6',\n",
              " 'PAY_AMT1',\n",
              " 'PAY_AMT2',\n",
              " 'PAY_AMT3',\n",
              " 'PAY_AMT4',\n",
              " 'PAY_AMT5',\n",
              " 'PAY_AMT6',\n",
              " 'target']"
            ]
          },
          "execution_count": 18,
          "metadata": {},
          "output_type": "execute_result"
        }
      ],
      "source": [
        "# column names\n",
        "df.columns.to_list()"
      ]
    },
    {
      "cell_type": "markdown",
      "metadata": {
        "id": "y8Na0Hxp0cEY"
      },
      "source": [
        "## Split Data"
      ]
    },
    {
      "cell_type": "markdown",
      "metadata": {
        "id": "4DmKNGuV6Kk4"
      },
      "source": [
        "Next, spliit the data wiht 70% for training and 30% for testing."
      ]
    },
    {
      "cell_type": "code",
      "execution_count": 19,
      "metadata": {
        "id": "-W2Wleyu1Vyb"
      },
      "outputs": [],
      "source": [
        "# identify X and y from original dataframe\n",
        "X = df.iloc[:, 1:24]\n",
        "y = df.iloc[:, -1:]"
      ]
    },
    {
      "cell_type": "code",
      "execution_count": 20,
      "metadata": {
        "id": "_cqt50rRxT2B"
      },
      "outputs": [],
      "source": [
        "# split both into a train and test set\n",
        "X_train, X_test, y_train, y_test = train_test_split(X, y, test_size = 0.30,\n",
        "                                                    random_state = 73)"
      ]
    },
    {
      "cell_type": "code",
      "execution_count": 21,
      "metadata": {
        "colab": {
          "base_uri": "https://localhost:8080/"
        },
        "id": "QAK9WcIB3tON",
        "outputId": "c78e13d5-39fe-4e2d-a04f-085dc1df27e1"
      },
      "outputs": [
        {
          "name": "stdout",
          "output_type": "stream",
          "text": [
            "Shape of X Train: (21000, 23)\n",
            "Shape of y Train: (21000, 1)\n",
            "Shape of X Test: (9000, 23)\n",
            "Shape of y Test: (9000, 1)\n"
          ]
        }
      ],
      "source": [
        "# print shape of all datasets\n",
        "print(\"Shape of X Train:\", X_train.shape)\n",
        "print(\"Shape of y Train:\", y_train.shape)\n",
        "print(\"Shape of X Test:\", X_test.shape)\n",
        "print(\"Shape of y Test:\", y_test.shape)"
      ]
    },
    {
      "cell_type": "markdown",
      "metadata": {
        "id": "Y-l0AhWx67PF"
      },
      "source": [
        "## EDA"
      ]
    },
    {
      "cell_type": "markdown",
      "metadata": {
        "id": "lbzp9lstbdor"
      },
      "source": [
        "Next, go through Exploratory Data Analysis Steps before modeling."
      ]
    },
    {
      "cell_type": "markdown",
      "metadata": {
        "id": "D2P5dxn7bg_x"
      },
      "source": [
        "First, create dummy variables for the categorical features present in the dataset."
      ]
    },
    {
      "cell_type": "code",
      "execution_count": 22,
      "metadata": {
        "colab": {
          "base_uri": "https://localhost:8080/",
          "height": 273
        },
        "id": "HM7tDZfKUBKS",
        "outputId": "5a74f72c-a436-49fe-cc7c-9a7132e233a6"
      },
      "outputs": [
        {
          "name": "stdout",
          "output_type": "stream",
          "text": [
            "(21000, 30)\n"
          ]
        },
        {
          "data": {
            "text/html": [
              "<div>\n",
              "<style scoped>\n",
              "    .dataframe tbody tr th:only-of-type {\n",
              "        vertical-align: middle;\n",
              "    }\n",
              "\n",
              "    .dataframe tbody tr th {\n",
              "        vertical-align: top;\n",
              "    }\n",
              "\n",
              "    .dataframe thead th {\n",
              "        text-align: right;\n",
              "    }\n",
              "</style>\n",
              "<table border=\"1\" class=\"dataframe\">\n",
              "  <thead>\n",
              "    <tr style=\"text-align: right;\">\n",
              "      <th></th>\n",
              "      <th>LIMIT_BAL</th>\n",
              "      <th>AGE</th>\n",
              "      <th>PAY_0</th>\n",
              "      <th>PAY_2</th>\n",
              "      <th>PAY_3</th>\n",
              "      <th>PAY_4</th>\n",
              "      <th>PAY_5</th>\n",
              "      <th>PAY_6</th>\n",
              "      <th>BILL_AMT1</th>\n",
              "      <th>BILL_AMT2</th>\n",
              "      <th>...</th>\n",
              "      <th>SEX_MALE</th>\n",
              "      <th>EDUCATION_OTHER_0</th>\n",
              "      <th>EDUCATION_GRAD</th>\n",
              "      <th>EDUCATION_UNI</th>\n",
              "      <th>EDUCATION_OTHER_4</th>\n",
              "      <th>EDUCATION_OTHER_5</th>\n",
              "      <th>EDUCATION_OTHER_6</th>\n",
              "      <th>MARRIAGE_OTHER_0</th>\n",
              "      <th>MARRIAGE_MARRIED</th>\n",
              "      <th>MARRIAGE_OTHER_3</th>\n",
              "    </tr>\n",
              "  </thead>\n",
              "  <tbody>\n",
              "    <tr>\n",
              "      <th>23848</th>\n",
              "      <td>220000</td>\n",
              "      <td>54</td>\n",
              "      <td>-1</td>\n",
              "      <td>-1</td>\n",
              "      <td>-1</td>\n",
              "      <td>-1</td>\n",
              "      <td>-1</td>\n",
              "      <td>-1</td>\n",
              "      <td>265</td>\n",
              "      <td>4786</td>\n",
              "      <td>...</td>\n",
              "      <td>0</td>\n",
              "      <td>0</td>\n",
              "      <td>0</td>\n",
              "      <td>1</td>\n",
              "      <td>0</td>\n",
              "      <td>0</td>\n",
              "      <td>0</td>\n",
              "      <td>0</td>\n",
              "      <td>1</td>\n",
              "      <td>0</td>\n",
              "    </tr>\n",
              "    <tr>\n",
              "      <th>18322</th>\n",
              "      <td>20000</td>\n",
              "      <td>23</td>\n",
              "      <td>0</td>\n",
              "      <td>0</td>\n",
              "      <td>0</td>\n",
              "      <td>0</td>\n",
              "      <td>0</td>\n",
              "      <td>0</td>\n",
              "      <td>19422</td>\n",
              "      <td>17545</td>\n",
              "      <td>...</td>\n",
              "      <td>0</td>\n",
              "      <td>0</td>\n",
              "      <td>1</td>\n",
              "      <td>0</td>\n",
              "      <td>0</td>\n",
              "      <td>0</td>\n",
              "      <td>0</td>\n",
              "      <td>0</td>\n",
              "      <td>0</td>\n",
              "      <td>0</td>\n",
              "    </tr>\n",
              "    <tr>\n",
              "      <th>19375</th>\n",
              "      <td>200000</td>\n",
              "      <td>35</td>\n",
              "      <td>0</td>\n",
              "      <td>0</td>\n",
              "      <td>0</td>\n",
              "      <td>0</td>\n",
              "      <td>2</td>\n",
              "      <td>0</td>\n",
              "      <td>104393</td>\n",
              "      <td>108956</td>\n",
              "      <td>...</td>\n",
              "      <td>0</td>\n",
              "      <td>0</td>\n",
              "      <td>0</td>\n",
              "      <td>1</td>\n",
              "      <td>0</td>\n",
              "      <td>0</td>\n",
              "      <td>0</td>\n",
              "      <td>0</td>\n",
              "      <td>0</td>\n",
              "      <td>0</td>\n",
              "    </tr>\n",
              "    <tr>\n",
              "      <th>1504</th>\n",
              "      <td>310000</td>\n",
              "      <td>39</td>\n",
              "      <td>0</td>\n",
              "      <td>0</td>\n",
              "      <td>0</td>\n",
              "      <td>0</td>\n",
              "      <td>0</td>\n",
              "      <td>0</td>\n",
              "      <td>7246</td>\n",
              "      <td>6713</td>\n",
              "      <td>...</td>\n",
              "      <td>0</td>\n",
              "      <td>0</td>\n",
              "      <td>0</td>\n",
              "      <td>1</td>\n",
              "      <td>0</td>\n",
              "      <td>0</td>\n",
              "      <td>0</td>\n",
              "      <td>0</td>\n",
              "      <td>1</td>\n",
              "      <td>0</td>\n",
              "    </tr>\n",
              "    <tr>\n",
              "      <th>16019</th>\n",
              "      <td>360000</td>\n",
              "      <td>31</td>\n",
              "      <td>-2</td>\n",
              "      <td>-2</td>\n",
              "      <td>-2</td>\n",
              "      <td>-2</td>\n",
              "      <td>-2</td>\n",
              "      <td>-1</td>\n",
              "      <td>3000</td>\n",
              "      <td>2668</td>\n",
              "      <td>...</td>\n",
              "      <td>0</td>\n",
              "      <td>0</td>\n",
              "      <td>0</td>\n",
              "      <td>1</td>\n",
              "      <td>0</td>\n",
              "      <td>0</td>\n",
              "      <td>0</td>\n",
              "      <td>0</td>\n",
              "      <td>0</td>\n",
              "      <td>0</td>\n",
              "    </tr>\n",
              "  </tbody>\n",
              "</table>\n",
              "<p>5 rows × 30 columns</p>\n",
              "</div>"
            ],
            "text/plain": [
              "       LIMIT_BAL  AGE  PAY_0  PAY_2  PAY_3  PAY_4  PAY_5  PAY_6  BILL_AMT1  \\\n",
              "23848     220000   54     -1     -1     -1     -1     -1     -1        265   \n",
              "18322      20000   23      0      0      0      0      0      0      19422   \n",
              "19375     200000   35      0      0      0      0      2      0     104393   \n",
              "1504      310000   39      0      0      0      0      0      0       7246   \n",
              "16019     360000   31     -2     -2     -2     -2     -2     -1       3000   \n",
              "\n",
              "       BILL_AMT2  ...  SEX_MALE  EDUCATION_OTHER_0  EDUCATION_GRAD  \\\n",
              "23848       4786  ...         0                  0               0   \n",
              "18322      17545  ...         0                  0               1   \n",
              "19375     108956  ...         0                  0               0   \n",
              "1504        6713  ...         0                  0               0   \n",
              "16019       2668  ...         0                  0               0   \n",
              "\n",
              "       EDUCATION_UNI  EDUCATION_OTHER_4  EDUCATION_OTHER_5  EDUCATION_OTHER_6  \\\n",
              "23848              1                  0                  0                  0   \n",
              "18322              0                  0                  0                  0   \n",
              "19375              1                  0                  0                  0   \n",
              "1504               1                  0                  0                  0   \n",
              "16019              1                  0                  0                  0   \n",
              "\n",
              "       MARRIAGE_OTHER_0  MARRIAGE_MARRIED  MARRIAGE_OTHER_3  \n",
              "23848                 0                 1                 0  \n",
              "18322                 0                 0                 0  \n",
              "19375                 0                 0                 0  \n",
              "1504                  0                 1                 0  \n",
              "16019                 0                 0                 0  \n",
              "\n",
              "[5 rows x 30 columns]"
            ]
          },
          "execution_count": 22,
          "metadata": {},
          "output_type": "execute_result"
        }
      ],
      "source": [
        "# identify cateogrical features\n",
        "categorical = ['SEX', 'EDUCATION', 'MARRIAGE']\n",
        "\n",
        "# one hot encode categorical features\n",
        "cat_dummies = pd.get_dummies(X_train[categorical].astype(str)).astype(int)\n",
        "\n",
        "# rename columns according to data description\n",
        "cat_dummies.rename({'SEX_1': 'SEX_MALE',\n",
        "                    'SEX_2': 'SEX_FEMALE',\n",
        "                    'EDUCATION_1': 'EDUCATION_GRAD',\n",
        "                    'EDUCATION_2': 'EDUCATION_UNI',\n",
        "                    'EDUCATION_3': 'EDUCATION_HS',\n",
        "                    'EDUCATION_4': 'EDUCATION_OTHER_4',\n",
        "                    'EDUCATION_5': 'EDUCATION_OTHER_5',\n",
        "                    'EDUCATION_6': 'EDUCATION_OTHER_6',\n",
        "                    'EDUCATION_0': 'EDUCATION_OTHER_0',\n",
        "                    'MARRIAGE_1': 'MARRIAGE_MARRIED',\n",
        "                    'MARRIAGE_2': 'MARRIAGE_SINGLE',\n",
        "                    'MARRIAGE_3': 'MARRIAGE_OTHER_3',\n",
        "                    'MARRIAGE_0': 'MARRIAGE_OTHER_0'\n",
        "                  }, axis = 'columns', inplace = True)\n",
        "\n",
        "# drop one column for each category as reference\n",
        "cat_dummies.drop(['SEX_FEMALE', 'EDUCATION_HS', 'MARRIAGE_SINGLE'], axis = 1,\n",
        "                 inplace = True)\n",
        "\n",
        "# include dummy encoding in X_train and remove original categorical\n",
        "X_train_eda = pd.concat([X_train.drop(categorical, axis = 1), cat_dummies], axis = 1)\n",
        "\n",
        "# shape and overview\n",
        "print(X_train_eda.shape)\n",
        "X_train_eda.head()"
      ]
    },
    {
      "cell_type": "markdown",
      "metadata": {
        "id": "slbEgIB4b04k"
      },
      "source": [
        "Based on the distributions and the description of the data, an indicator can be created for if a customer has a bill amount of 0 for at least half of the six bills. We think this could be an interesting feature related to if a customer's use of their credit card."
      ]
    },
    {
      "cell_type": "code",
      "execution_count": 23,
      "metadata": {
        "colab": {
          "base_uri": "https://localhost:8080/",
          "height": 767
        },
        "id": "_UyMOua9C9kJ",
        "outputId": "9bef0c4d-5d4c-46bd-b57e-afb7bcbfdcc6"
      },
      "outputs": [
        {
          "name": "stdout",
          "output_type": "stream",
          "text": [
            "Index(['ID', 'LIMIT_BAL', 'SEX', 'EDUCATION', 'MARRIAGE', 'AGE', 'PAY_0',\n",
            "       'PAY_2', 'PAY_3', 'PAY_4', 'PAY_5', 'PAY_6', 'BILL_AMT1', 'BILL_AMT2',\n",
            "       'BILL_AMT3', 'BILL_AMT4', 'BILL_AMT5', 'BILL_AMT6', 'PAY_AMT1',\n",
            "       'PAY_AMT2', 'PAY_AMT3', 'PAY_AMT4', 'PAY_AMT5', 'PAY_AMT6', 'target',\n",
            "       'no_of_zero_bill_3'],\n",
            "      dtype='object')\n",
            "New column 'has_zero_bill' created:\n",
            "Count: no_of_zero_bill_3\n",
            "0    23887\n",
            "1     1864\n",
            "2     1169\n",
            "3      800\n",
            "4      763\n",
            "5      651\n",
            "6      866\n",
            "Name: count, dtype: int64\n",
            "More than 3 bill amount zero records:  2280\n"
          ]
        },
        {
          "data": {
            "image/png": "[encoded data removed]",
            "text/plain": [
              "<Figure size 640x480 with 1 Axes>"
            ]
          },
          "metadata": {},
          "output_type": "display_data"
        }
      ],
      "source": [
        "# identify bill columns\n",
        "bill_columns = ['BILL_AMT1', 'BILL_AMT2', 'BILL_AMT3', 'BILL_AMT4', 'BILL_AMT5', 'BILL_AMT6']\n",
        "\n",
        "# new column for number of zero values across bill amounts\n",
        "df['no_of_zero_bill_3'] = (df[bill_columns] == 0).sum(axis=1)\n",
        "\n",
        "# current list of columns\n",
        "print(df.columns)\n",
        "\n",
        "# output of new column\n",
        "print(\"New column 'has_zero_bill' created:\")\n",
        "print(\"Count:\", df['no_of_zero_bill_3'].value_counts().sort_index())\n",
        "\n",
        "# number of customers with many zero bill amounts\n",
        "print(\"More than 3 bill amount zero records: \", (df['no_of_zero_bill_3'] > 3).sum())\n",
        "\n",
        "# histogram to visualize results\n",
        "df['no_of_zero_bill_3'].hist()\n",
        "plt.title(\"Distribution of Zero Bill Amounts\")\n",
        "plt.xlabel(\"Number of Zero Bill Amounts\")\n",
        "plt.ylabel(\"Count of Customers\")\n",
        "plt.show()"
      ]
    },
    {
      "cell_type": "markdown",
      "metadata": {
        "id": "65ECpmGVxuFI"
      },
      "source": [
        "From the above results, it seems like there is not a lot of customers with zero bill amounts. This means that it should not be a concern while modeling, so the indicator will not be included."
      ]
    },
    {
      "cell_type": "markdown",
      "metadata": {
        "id": "iTcRhzccblYs"
      },
      "source": [
        "Next, view the distributions of all features."
      ]
    },
    {
      "cell_type": "code",
      "execution_count": 24,
      "metadata": {
        "colab": {
          "base_uri": "https://localhost:8080/",
          "height": 1000
        },
        "id": "lQmmB0o53uk6",
        "outputId": "73373ad8-14f9-4946-d93b-c89825a89098"
      },
      "outputs": [
        {
          "data": {
            "text/plain": [
              "array([[<Axes: title={'center': 'LIMIT_BAL'}>,\n",
              "        <Axes: title={'center': 'AGE'}>,\n",
              "        <Axes: title={'center': 'PAY_0'}>,\n",
              "        <Axes: title={'center': 'PAY_2'}>,\n",
              "        <Axes: title={'center': 'PAY_3'}>],\n",
              "       [<Axes: title={'center': 'PAY_4'}>,\n",
              "        <Axes: title={'center': 'PAY_5'}>,\n",
              "        <Axes: title={'center': 'PAY_6'}>,\n",
              "        <Axes: title={'center': 'BILL_AMT1'}>,\n",
              "        <Axes: title={'center': 'BILL_AMT2'}>],\n",
              "       [<Axes: title={'center': 'BILL_AMT3'}>,\n",
              "        <Axes: title={'center': 'BILL_AMT4'}>,\n",
              "        <Axes: title={'center': 'BILL_AMT5'}>,\n",
              "        <Axes: title={'center': 'BILL_AMT6'}>,\n",
              "        <Axes: title={'center': 'PAY_AMT1'}>],\n",
              "       [<Axes: title={'center': 'PAY_AMT2'}>,\n",
              "        <Axes: title={'center': 'PAY_AMT3'}>,\n",
              "        <Axes: title={'center': 'PAY_AMT4'}>,\n",
              "        <Axes: title={'center': 'PAY_AMT5'}>,\n",
              "        <Axes: title={'center': 'PAY_AMT6'}>],\n",
              "       [<Axes: title={'center': 'SEX_MALE'}>,\n",
              "        <Axes: title={'center': 'EDUCATION_OTHER_0'}>,\n",
              "        <Axes: title={'center': 'EDUCATION_GRAD'}>,\n",
              "        <Axes: title={'center': 'EDUCATION_UNI'}>,\n",
              "        <Axes: title={'center': 'EDUCATION_OTHER_4'}>],\n",
              "       [<Axes: title={'center': 'EDUCATION_OTHER_5'}>,\n",
              "        <Axes: title={'center': 'EDUCATION_OTHER_6'}>,\n",
              "        <Axes: title={'center': 'MARRIAGE_OTHER_0'}>,\n",
              "        <Axes: title={'center': 'MARRIAGE_MARRIED'}>,\n",
              "        <Axes: title={'center': 'MARRIAGE_OTHER_3'}>]], dtype=object)"
            ]
          },
          "execution_count": 24,
          "metadata": {},
          "output_type": "execute_result"
        },
        {
          "data": {
            "image/png": "[encoded data removed]",
            "text/plain": [
              "<Figure size 1500x2000 with 30 Axes>"
            ]
          },
          "metadata": {},
          "output_type": "display_data"
        }
      ],
      "source": [
        "# histograms\n",
        "X_train_eda.hist(figsize = (15,20))"
      ]
    },
    {
      "cell_type": "code",
      "execution_count": 25,
      "metadata": {
        "colab": {
          "base_uri": "https://localhost:8080/",
          "height": 349
        },
        "id": "-S-PahZa6-NP",
        "outputId": "1e5047b0-619a-422b-a420-24cb02f8a9de"
      },
      "outputs": [
        {
          "data": {
            "text/html": [
              "<div>\n",
              "<style scoped>\n",
              "    .dataframe tbody tr th:only-of-type {\n",
              "        vertical-align: middle;\n",
              "    }\n",
              "\n",
              "    .dataframe tbody tr th {\n",
              "        vertical-align: top;\n",
              "    }\n",
              "\n",
              "    .dataframe thead th {\n",
              "        text-align: right;\n",
              "    }\n",
              "</style>\n",
              "<table border=\"1\" class=\"dataframe\">\n",
              "  <thead>\n",
              "    <tr style=\"text-align: right;\">\n",
              "      <th></th>\n",
              "      <th>LIMIT_BAL</th>\n",
              "      <th>AGE</th>\n",
              "      <th>PAY_0</th>\n",
              "      <th>PAY_2</th>\n",
              "      <th>PAY_3</th>\n",
              "      <th>PAY_4</th>\n",
              "      <th>PAY_5</th>\n",
              "      <th>PAY_6</th>\n",
              "      <th>BILL_AMT1</th>\n",
              "      <th>BILL_AMT2</th>\n",
              "      <th>...</th>\n",
              "      <th>SEX_MALE</th>\n",
              "      <th>EDUCATION_OTHER_0</th>\n",
              "      <th>EDUCATION_GRAD</th>\n",
              "      <th>EDUCATION_UNI</th>\n",
              "      <th>EDUCATION_OTHER_4</th>\n",
              "      <th>EDUCATION_OTHER_5</th>\n",
              "      <th>EDUCATION_OTHER_6</th>\n",
              "      <th>MARRIAGE_OTHER_0</th>\n",
              "      <th>MARRIAGE_MARRIED</th>\n",
              "      <th>MARRIAGE_OTHER_3</th>\n",
              "    </tr>\n",
              "  </thead>\n",
              "  <tbody>\n",
              "    <tr>\n",
              "      <th>count</th>\n",
              "      <td>21000.000000</td>\n",
              "      <td>21000.000000</td>\n",
              "      <td>21000.000000</td>\n",
              "      <td>21000.000000</td>\n",
              "      <td>21000.00000</td>\n",
              "      <td>21000.000000</td>\n",
              "      <td>21000.000000</td>\n",
              "      <td>21000.000000</td>\n",
              "      <td>21000.000000</td>\n",
              "      <td>21000.000000</td>\n",
              "      <td>...</td>\n",
              "      <td>21000.000000</td>\n",
              "      <td>21000.000000</td>\n",
              "      <td>21000.000000</td>\n",
              "      <td>21000.000000</td>\n",
              "      <td>21000.00000</td>\n",
              "      <td>21000.000000</td>\n",
              "      <td>21000.000000</td>\n",
              "      <td>21000.000000</td>\n",
              "      <td>21000.000000</td>\n",
              "      <td>21000.000000</td>\n",
              "    </tr>\n",
              "    <tr>\n",
              "      <th>mean</th>\n",
              "      <td>166687.603810</td>\n",
              "      <td>35.458619</td>\n",
              "      <td>-0.011714</td>\n",
              "      <td>-0.131857</td>\n",
              "      <td>-0.16381</td>\n",
              "      <td>-0.215381</td>\n",
              "      <td>-0.259905</td>\n",
              "      <td>-0.285238</td>\n",
              "      <td>50934.862714</td>\n",
              "      <td>48967.055095</td>\n",
              "      <td>...</td>\n",
              "      <td>0.396857</td>\n",
              "      <td>0.000476</td>\n",
              "      <td>0.349667</td>\n",
              "      <td>0.467810</td>\n",
              "      <td>0.00419</td>\n",
              "      <td>0.009762</td>\n",
              "      <td>0.001857</td>\n",
              "      <td>0.001905</td>\n",
              "      <td>0.453381</td>\n",
              "      <td>0.010667</td>\n",
              "    </tr>\n",
              "    <tr>\n",
              "      <th>std</th>\n",
              "      <td>129082.042168</td>\n",
              "      <td>9.222981</td>\n",
              "      <td>1.122123</td>\n",
              "      <td>1.194697</td>\n",
              "      <td>1.19670</td>\n",
              "      <td>1.171531</td>\n",
              "      <td>1.138142</td>\n",
              "      <td>1.154097</td>\n",
              "      <td>72837.650188</td>\n",
              "      <td>70185.627401</td>\n",
              "      <td>...</td>\n",
              "      <td>0.489258</td>\n",
              "      <td>0.021817</td>\n",
              "      <td>0.476876</td>\n",
              "      <td>0.498975</td>\n",
              "      <td>0.06460</td>\n",
              "      <td>0.098321</td>\n",
              "      <td>0.043056</td>\n",
              "      <td>0.043603</td>\n",
              "      <td>0.497834</td>\n",
              "      <td>0.102730</td>\n",
              "    </tr>\n",
              "    <tr>\n",
              "      <th>min</th>\n",
              "      <td>10000.000000</td>\n",
              "      <td>21.000000</td>\n",
              "      <td>-2.000000</td>\n",
              "      <td>-2.000000</td>\n",
              "      <td>-2.00000</td>\n",
              "      <td>-2.000000</td>\n",
              "      <td>-2.000000</td>\n",
              "      <td>-2.000000</td>\n",
              "      <td>-165580.000000</td>\n",
              "      <td>-69777.000000</td>\n",
              "      <td>...</td>\n",
              "      <td>0.000000</td>\n",
              "      <td>0.000000</td>\n",
              "      <td>0.000000</td>\n",
              "      <td>0.000000</td>\n",
              "      <td>0.00000</td>\n",
              "      <td>0.000000</td>\n",
              "      <td>0.000000</td>\n",
              "      <td>0.000000</td>\n",
              "      <td>0.000000</td>\n",
              "      <td>0.000000</td>\n",
              "    </tr>\n",
              "    <tr>\n",
              "      <th>25%</th>\n",
              "      <td>50000.000000</td>\n",
              "      <td>28.000000</td>\n",
              "      <td>-1.000000</td>\n",
              "      <td>-1.000000</td>\n",
              "      <td>-1.00000</td>\n",
              "      <td>-1.000000</td>\n",
              "      <td>-1.000000</td>\n",
              "      <td>-1.000000</td>\n",
              "      <td>3565.750000</td>\n",
              "      <td>3032.500000</td>\n",
              "      <td>...</td>\n",
              "      <td>0.000000</td>\n",
              "      <td>0.000000</td>\n",
              "      <td>0.000000</td>\n",
              "      <td>0.000000</td>\n",
              "      <td>0.00000</td>\n",
              "      <td>0.000000</td>\n",
              "      <td>0.000000</td>\n",
              "      <td>0.000000</td>\n",
              "      <td>0.000000</td>\n",
              "      <td>0.000000</td>\n",
              "    </tr>\n",
              "    <tr>\n",
              "      <th>50%</th>\n",
              "      <td>140000.000000</td>\n",
              "      <td>34.000000</td>\n",
              "      <td>0.000000</td>\n",
              "      <td>0.000000</td>\n",
              "      <td>0.00000</td>\n",
              "      <td>0.000000</td>\n",
              "      <td>0.000000</td>\n",
              "      <td>0.000000</td>\n",
              "      <td>22431.000000</td>\n",
              "      <td>21435.000000</td>\n",
              "      <td>...</td>\n",
              "      <td>0.000000</td>\n",
              "      <td>0.000000</td>\n",
              "      <td>0.000000</td>\n",
              "      <td>0.000000</td>\n",
              "      <td>0.00000</td>\n",
              "      <td>0.000000</td>\n",
              "      <td>0.000000</td>\n",
              "      <td>0.000000</td>\n",
              "      <td>0.000000</td>\n",
              "      <td>0.000000</td>\n",
              "    </tr>\n",
              "    <tr>\n",
              "      <th>75%</th>\n",
              "      <td>240000.000000</td>\n",
              "      <td>41.000000</td>\n",
              "      <td>0.000000</td>\n",
              "      <td>0.000000</td>\n",
              "      <td>0.00000</td>\n",
              "      <td>0.000000</td>\n",
              "      <td>0.000000</td>\n",
              "      <td>0.000000</td>\n",
              "      <td>66774.250000</td>\n",
              "      <td>64049.500000</td>\n",
              "      <td>...</td>\n",
              "      <td>1.000000</td>\n",
              "      <td>0.000000</td>\n",
              "      <td>1.000000</td>\n",
              "      <td>1.000000</td>\n",
              "      <td>0.00000</td>\n",
              "      <td>0.000000</td>\n",
              "      <td>0.000000</td>\n",
              "      <td>0.000000</td>\n",
              "      <td>1.000000</td>\n",
              "      <td>0.000000</td>\n",
              "    </tr>\n",
              "    <tr>\n",
              "      <th>max</th>\n",
              "      <td>800000.000000</td>\n",
              "      <td>79.000000</td>\n",
              "      <td>8.000000</td>\n",
              "      <td>8.000000</td>\n",
              "      <td>8.00000</td>\n",
              "      <td>8.000000</td>\n",
              "      <td>8.000000</td>\n",
              "      <td>8.000000</td>\n",
              "      <td>746814.000000</td>\n",
              "      <td>671563.000000</td>\n",
              "      <td>...</td>\n",
              "      <td>1.000000</td>\n",
              "      <td>1.000000</td>\n",
              "      <td>1.000000</td>\n",
              "      <td>1.000000</td>\n",
              "      <td>1.00000</td>\n",
              "      <td>1.000000</td>\n",
              "      <td>1.000000</td>\n",
              "      <td>1.000000</td>\n",
              "      <td>1.000000</td>\n",
              "      <td>1.000000</td>\n",
              "    </tr>\n",
              "  </tbody>\n",
              "</table>\n",
              "<p>8 rows × 30 columns</p>\n",
              "</div>"
            ],
            "text/plain": [
              "           LIMIT_BAL           AGE         PAY_0         PAY_2        PAY_3  \\\n",
              "count   21000.000000  21000.000000  21000.000000  21000.000000  21000.00000   \n",
              "mean   166687.603810     35.458619     -0.011714     -0.131857     -0.16381   \n",
              "std    129082.042168      9.222981      1.122123      1.194697      1.19670   \n",
              "min     10000.000000     21.000000     -2.000000     -2.000000     -2.00000   \n",
              "25%     50000.000000     28.000000     -1.000000     -1.000000     -1.00000   \n",
              "50%    140000.000000     34.000000      0.000000      0.000000      0.00000   \n",
              "75%    240000.000000     41.000000      0.000000      0.000000      0.00000   \n",
              "max    800000.000000     79.000000      8.000000      8.000000      8.00000   \n",
              "\n",
              "              PAY_4         PAY_5         PAY_6      BILL_AMT1      BILL_AMT2  \\\n",
              "count  21000.000000  21000.000000  21000.000000   21000.000000   21000.000000   \n",
              "mean      -0.215381     -0.259905     -0.285238   50934.862714   48967.055095   \n",
              "std        1.171531      1.138142      1.154097   72837.650188   70185.627401   \n",
              "min       -2.000000     -2.000000     -2.000000 -165580.000000  -69777.000000   \n",
              "25%       -1.000000     -1.000000     -1.000000    3565.750000    3032.500000   \n",
              "50%        0.000000      0.000000      0.000000   22431.000000   21435.000000   \n",
              "75%        0.000000      0.000000      0.000000   66774.250000   64049.500000   \n",
              "max        8.000000      8.000000      8.000000  746814.000000  671563.000000   \n",
              "\n",
              "       ...      SEX_MALE  EDUCATION_OTHER_0  EDUCATION_GRAD  EDUCATION_UNI  \\\n",
              "count  ...  21000.000000       21000.000000    21000.000000   21000.000000   \n",
              "mean   ...      0.396857           0.000476        0.349667       0.467810   \n",
              "std    ...      0.489258           0.021817        0.476876       0.498975   \n",
              "min    ...      0.000000           0.000000        0.000000       0.000000   \n",
              "25%    ...      0.000000           0.000000        0.000000       0.000000   \n",
              "50%    ...      0.000000           0.000000        0.000000       0.000000   \n",
              "75%    ...      1.000000           0.000000        1.000000       1.000000   \n",
              "max    ...      1.000000           1.000000        1.000000       1.000000   \n",
              "\n",
              "       EDUCATION_OTHER_4  EDUCATION_OTHER_5  EDUCATION_OTHER_6  \\\n",
              "count        21000.00000       21000.000000       21000.000000   \n",
              "mean             0.00419           0.009762           0.001857   \n",
              "std              0.06460           0.098321           0.043056   \n",
              "min              0.00000           0.000000           0.000000   \n",
              "25%              0.00000           0.000000           0.000000   \n",
              "50%              0.00000           0.000000           0.000000   \n",
              "75%              0.00000           0.000000           0.000000   \n",
              "max              1.00000           1.000000           1.000000   \n",
              "\n",
              "       MARRIAGE_OTHER_0  MARRIAGE_MARRIED  MARRIAGE_OTHER_3  \n",
              "count      21000.000000      21000.000000      21000.000000  \n",
              "mean           0.001905          0.453381          0.010667  \n",
              "std            0.043603          0.497834          0.102730  \n",
              "min            0.000000          0.000000          0.000000  \n",
              "25%            0.000000          0.000000          0.000000  \n",
              "50%            0.000000          0.000000          0.000000  \n",
              "75%            0.000000          1.000000          0.000000  \n",
              "max            1.000000          1.000000          1.000000  \n",
              "\n",
              "[8 rows x 30 columns]"
            ]
          },
          "execution_count": 25,
          "metadata": {},
          "output_type": "execute_result"
        }
      ],
      "source": [
        "# numerical descriptions\n",
        "X_train_eda.describe()"
      ]
    },
    {
      "cell_type": "markdown",
      "metadata": {
        "id": "kSxHSSI0CFyI"
      },
      "source": [
        "## Feature Selection"
      ]
    },
    {
      "cell_type": "markdown",
      "metadata": {
        "id": "ZgV_MlUNyk4x"
      },
      "source": [
        "Next, the best features should be selected for the model. This is done using three methods: univariate screening, LASSO, and feature importances."
      ]
    },
    {
      "cell_type": "markdown",
      "metadata": {
        "id": "JL7APlctytLB"
      },
      "source": [
        "### Univariate Screening"
      ]
    },
    {
      "cell_type": "markdown",
      "metadata": {
        "id": "4RN3q87He6sK"
      },
      "source": [
        "For univariate screening, a random forest model is created for each individual feature with the target in order to get the area under the curve value. These can then be ranked from high to low."
      ]
    },
    {
      "cell_type": "code",
      "execution_count": 26,
      "metadata": {
        "id": "p8Ed3yJge8PM"
      },
      "outputs": [],
      "source": [
        "# initialize list to hold results\n",
        "auc_data = []\n",
        "\n",
        "# iteratre through features\n",
        "for col in X_train_eda.columns:\n",
        "  # identify the x and y\n",
        "  x = X_train_eda[col].to_frame()\n",
        "  y = y_train.values.ravel()\n",
        "\n",
        "  # fit a random forest\n",
        "  rf = RandomForestClassifier(random_state = 73)\n",
        "  rf.fit(x, y)\n",
        "\n",
        "  # calculate auc score\n",
        "  auc = roc_auc_score(y, rf.predict_proba(x)[:, 1])\n",
        "\n",
        "  # add results to list\n",
        "  auc_data.append({'Feature': col, 'AUC': auc})"
      ]
    },
    {
      "cell_type": "code",
      "execution_count": 27,
      "metadata": {
        "colab": {
          "base_uri": "https://localhost:8080/",
          "height": 990
        },
        "id": "WM_KUCxeh0kT",
        "outputId": "120fbe31-7048-46db-dd93-ae92fb06320b"
      },
      "outputs": [
        {
          "data": {
            "text/html": [
              "<div>\n",
              "<style scoped>\n",
              "    .dataframe tbody tr th:only-of-type {\n",
              "        vertical-align: middle;\n",
              "    }\n",
              "\n",
              "    .dataframe tbody tr th {\n",
              "        vertical-align: top;\n",
              "    }\n",
              "\n",
              "    .dataframe thead th {\n",
              "        text-align: right;\n",
              "    }\n",
              "</style>\n",
              "<table border=\"1\" class=\"dataframe\">\n",
              "  <thead>\n",
              "    <tr style=\"text-align: right;\">\n",
              "      <th></th>\n",
              "      <th>Feature</th>\n",
              "      <th>AUC</th>\n",
              "    </tr>\n",
              "  </thead>\n",
              "  <tbody>\n",
              "    <tr>\n",
              "      <th>0</th>\n",
              "      <td>BILL_AMT1</td>\n",
              "      <td>0.975649</td>\n",
              "    </tr>\n",
              "    <tr>\n",
              "      <th>1</th>\n",
              "      <td>BILL_AMT2</td>\n",
              "      <td>0.971854</td>\n",
              "    </tr>\n",
              "    <tr>\n",
              "      <th>2</th>\n",
              "      <td>BILL_AMT3</td>\n",
              "      <td>0.969418</td>\n",
              "    </tr>\n",
              "    <tr>\n",
              "      <th>3</th>\n",
              "      <td>BILL_AMT4</td>\n",
              "      <td>0.964913</td>\n",
              "    </tr>\n",
              "    <tr>\n",
              "      <th>4</th>\n",
              "      <td>BILL_AMT5</td>\n",
              "      <td>0.960830</td>\n",
              "    </tr>\n",
              "    <tr>\n",
              "      <th>5</th>\n",
              "      <td>BILL_AMT6</td>\n",
              "      <td>0.956175</td>\n",
              "    </tr>\n",
              "    <tr>\n",
              "      <th>6</th>\n",
              "      <td>PAY_AMT1</td>\n",
              "      <td>0.814058</td>\n",
              "    </tr>\n",
              "    <tr>\n",
              "      <th>7</th>\n",
              "      <td>PAY_AMT2</td>\n",
              "      <td>0.804536</td>\n",
              "    </tr>\n",
              "    <tr>\n",
              "      <th>8</th>\n",
              "      <td>PAY_AMT3</td>\n",
              "      <td>0.799212</td>\n",
              "    </tr>\n",
              "    <tr>\n",
              "      <th>9</th>\n",
              "      <td>PAY_AMT4</td>\n",
              "      <td>0.784178</td>\n",
              "    </tr>\n",
              "    <tr>\n",
              "      <th>10</th>\n",
              "      <td>PAY_AMT6</td>\n",
              "      <td>0.781695</td>\n",
              "    </tr>\n",
              "    <tr>\n",
              "      <th>11</th>\n",
              "      <td>PAY_AMT5</td>\n",
              "      <td>0.778353</td>\n",
              "    </tr>\n",
              "    <tr>\n",
              "      <th>12</th>\n",
              "      <td>PAY_0</td>\n",
              "      <td>0.712443</td>\n",
              "    </tr>\n",
              "    <tr>\n",
              "      <th>13</th>\n",
              "      <td>PAY_2</td>\n",
              "      <td>0.653824</td>\n",
              "    </tr>\n",
              "    <tr>\n",
              "      <th>14</th>\n",
              "      <td>PAY_3</td>\n",
              "      <td>0.635759</td>\n",
              "    </tr>\n",
              "    <tr>\n",
              "      <th>15</th>\n",
              "      <td>LIMIT_BAL</td>\n",
              "      <td>0.628359</td>\n",
              "    </tr>\n",
              "    <tr>\n",
              "      <th>16</th>\n",
              "      <td>PAY_4</td>\n",
              "      <td>0.625412</td>\n",
              "    </tr>\n",
              "    <tr>\n",
              "      <th>17</th>\n",
              "      <td>PAY_5</td>\n",
              "      <td>0.612331</td>\n",
              "    </tr>\n",
              "    <tr>\n",
              "      <th>18</th>\n",
              "      <td>PAY_6</td>\n",
              "      <td>0.603507</td>\n",
              "    </tr>\n",
              "    <tr>\n",
              "      <th>19</th>\n",
              "      <td>AGE</td>\n",
              "      <td>0.546280</td>\n",
              "    </tr>\n",
              "    <tr>\n",
              "      <th>20</th>\n",
              "      <td>EDUCATION_GRAD</td>\n",
              "      <td>0.529597</td>\n",
              "    </tr>\n",
              "    <tr>\n",
              "      <th>21</th>\n",
              "      <td>SEX_MALE</td>\n",
              "      <td>0.528712</td>\n",
              "    </tr>\n",
              "    <tr>\n",
              "      <th>22</th>\n",
              "      <td>EDUCATION_UNI</td>\n",
              "      <td>0.523262</td>\n",
              "    </tr>\n",
              "    <tr>\n",
              "      <th>23</th>\n",
              "      <td>MARRIAGE_MARRIED</td>\n",
              "      <td>0.518410</td>\n",
              "    </tr>\n",
              "    <tr>\n",
              "      <th>24</th>\n",
              "      <td>EDUCATION_OTHER_5</td>\n",
              "      <td>0.504225</td>\n",
              "    </tr>\n",
              "    <tr>\n",
              "      <th>25</th>\n",
              "      <td>EDUCATION_OTHER_4</td>\n",
              "      <td>0.501874</td>\n",
              "    </tr>\n",
              "    <tr>\n",
              "      <th>26</th>\n",
              "      <td>MARRIAGE_OTHER_3</td>\n",
              "      <td>0.500822</td>\n",
              "    </tr>\n",
              "    <tr>\n",
              "      <th>27</th>\n",
              "      <td>MARRIAGE_OTHER_0</td>\n",
              "      <td>0.500540</td>\n",
              "    </tr>\n",
              "    <tr>\n",
              "      <th>28</th>\n",
              "      <td>EDUCATION_OTHER_6</td>\n",
              "      <td>0.500372</td>\n",
              "    </tr>\n",
              "    <tr>\n",
              "      <th>29</th>\n",
              "      <td>EDUCATION_OTHER_0</td>\n",
              "      <td>0.500307</td>\n",
              "    </tr>\n",
              "  </tbody>\n",
              "</table>\n",
              "</div>"
            ],
            "text/plain": [
              "              Feature       AUC\n",
              "0           BILL_AMT1  0.975649\n",
              "1           BILL_AMT2  0.971854\n",
              "2           BILL_AMT3  0.969418\n",
              "3           BILL_AMT4  0.964913\n",
              "4           BILL_AMT5  0.960830\n",
              "5           BILL_AMT6  0.956175\n",
              "6            PAY_AMT1  0.814058\n",
              "7            PAY_AMT2  0.804536\n",
              "8            PAY_AMT3  0.799212\n",
              "9            PAY_AMT4  0.784178\n",
              "10           PAY_AMT6  0.781695\n",
              "11           PAY_AMT5  0.778353\n",
              "12              PAY_0  0.712443\n",
              "13              PAY_2  0.653824\n",
              "14              PAY_3  0.635759\n",
              "15          LIMIT_BAL  0.628359\n",
              "16              PAY_4  0.625412\n",
              "17              PAY_5  0.612331\n",
              "18              PAY_6  0.603507\n",
              "19                AGE  0.546280\n",
              "20     EDUCATION_GRAD  0.529597\n",
              "21           SEX_MALE  0.528712\n",
              "22      EDUCATION_UNI  0.523262\n",
              "23   MARRIAGE_MARRIED  0.518410\n",
              "24  EDUCATION_OTHER_5  0.504225\n",
              "25  EDUCATION_OTHER_4  0.501874\n",
              "26   MARRIAGE_OTHER_3  0.500822\n",
              "27   MARRIAGE_OTHER_0  0.500540\n",
              "28  EDUCATION_OTHER_6  0.500372\n",
              "29  EDUCATION_OTHER_0  0.500307"
            ]
          },
          "execution_count": 27,
          "metadata": {},
          "output_type": "execute_result"
        }
      ],
      "source": [
        "# convert list to dataframe and sort from high to low\n",
        "auc_results = pd.DataFrame(auc_data).sort_values(by = 'AUC', ascending = False).reset_index(drop = True)\n",
        "auc_results"
      ]
    },
    {
      "cell_type": "code",
      "execution_count": 28,
      "metadata": {
        "colab": {
          "base_uri": "https://localhost:8080/",
          "height": 472
        },
        "id": "8EMTN8hZXroh",
        "outputId": "9c4d6417-82b7-4a3e-b88e-014c35b2901e"
      },
      "outputs": [
        {
          "data": {
            "image/png": "[encoded data removed]",
            "text/plain": [
              "<Figure size 640x480 with 1 Axes>"
            ]
          },
          "metadata": {},
          "output_type": "display_data"
        }
      ],
      "source": [
        "# visualize results using a bar plot\n",
        "auc_results.sort_values(by = 'AUC',\n",
        "                        ascending = True).plot(kind = 'barh',\n",
        "                                               y = 'AUC',\n",
        "                                               x = 'Feature',\n",
        "                                               xlim = (0.5, 1.0),\n",
        "                                               xlabel = 'AUC',\n",
        "                                               legend = False,\n",
        "                                               title = 'AUC of All Features'\n",
        "                                               )\n",
        "plt.show()"
      ]
    },
    {
      "cell_type": "markdown",
      "metadata": {
        "id": "EZXgq1fXzXsr"
      },
      "source": [
        "From the univariate screening, it appears that bill and pay amounts are the strongest features individually."
      ]
    },
    {
      "cell_type": "markdown",
      "metadata": {
        "id": "5fYsdaCwzcDo"
      },
      "source": [
        "### LASSO Regression"
      ]
    },
    {
      "cell_type": "markdown",
      "metadata": {
        "id": "L2BlEBumzdai"
      },
      "source": [
        "The next feature selection method is LASSO using a five-fold cross validation. This will select the best penalty term which causes some coefficients to shrink to zero. The remaining coefficients correspond to the selected features in LASSO."
      ]
    },
    {
      "cell_type": "code",
      "execution_count": 29,
      "metadata": {
        "colab": {
          "base_uri": "https://localhost:8080/"
        },
        "id": "gnZEeqNDFU_V",
        "outputId": "1ca0d888-d70a-4b27-fadd-ad637ee1d6cf"
      },
      "outputs": [
        {
          "name": "stderr",
          "output_type": "stream",
          "text": [
            "c:\\Users\\shrey\\anaconda3\\envs\\STP_598\\Lib\\site-packages\\sklearn\\linear_model\\_coordinate_descent.py:1714: DataConversionWarning: A column-vector y was passed when a 1d array was expected. Please change the shape of y to (n_samples, ), for example using ravel().\n",
            "  y = column_or_1d(y, warn=True)\n"
          ]
        }
      ],
      "source": [
        "# lasso CV method\n",
        "lasso = LassoCV(cv = 5, random_state = 73).fit(X_train_eda, y_train)"
      ]
    },
    {
      "cell_type": "code",
      "execution_count": 30,
      "metadata": {
        "colab": {
          "base_uri": "https://localhost:8080/"
        },
        "id": "oEe2pl7fGIL6",
        "outputId": "ec36f424-2544-4328-c978-17af8f5f9222"
      },
      "outputs": [
        {
          "data": {
            "text/plain": [
              "64.3535939806477"
            ]
          },
          "execution_count": 30,
          "metadata": {},
          "output_type": "execute_result"
        }
      ],
      "source": [
        "# best penalty term\n",
        "lasso.alpha_"
      ]
    },
    {
      "cell_type": "code",
      "execution_count": 31,
      "metadata": {
        "colab": {
          "base_uri": "https://localhost:8080/"
        },
        "id": "qMZzsxGJGdf9",
        "outputId": "eb42c0e4-a6ff-4493-c300-d082474376e5"
      },
      "outputs": [
        {
          "data": {
            "text/plain": [
              "array([-4.93354915e-07,  0.00000000e+00,  0.00000000e+00,  0.00000000e+00,\n",
              "        0.00000000e+00,  0.00000000e+00,  0.00000000e+00,  0.00000000e+00,\n",
              "       -1.86753691e-07,  0.00000000e+00,  0.00000000e+00,  0.00000000e+00,\n",
              "        2.30739963e-08,  5.66754937e-07, -8.92257125e-07, -2.33731912e-07,\n",
              "       -2.77746693e-07, -4.09856758e-07, -5.92031713e-07, -2.24824783e-08,\n",
              "        0.00000000e+00, -0.00000000e+00, -0.00000000e+00,  0.00000000e+00,\n",
              "       -0.00000000e+00, -0.00000000e+00, -0.00000000e+00, -0.00000000e+00,\n",
              "        0.00000000e+00,  0.00000000e+00])"
            ]
          },
          "execution_count": 31,
          "metadata": {},
          "output_type": "execute_result"
        }
      ],
      "source": [
        "# coefficients of all features\n",
        "lasso.coef_"
      ]
    },
    {
      "cell_type": "code",
      "execution_count": 32,
      "metadata": {
        "colab": {
          "base_uri": "https://localhost:8080/"
        },
        "id": "NAKKazOeG3Kz",
        "outputId": "9b4f09cc-6057-47a1-bf9e-c406eaf11f22"
      },
      "outputs": [
        {
          "data": {
            "text/plain": [
              "['LIMIT_BAL',\n",
              " 'BILL_AMT1',\n",
              " 'BILL_AMT5',\n",
              " 'BILL_AMT6',\n",
              " 'PAY_AMT1',\n",
              " 'PAY_AMT2',\n",
              " 'PAY_AMT3',\n",
              " 'PAY_AMT4',\n",
              " 'PAY_AMT5',\n",
              " 'PAY_AMT6']"
            ]
          },
          "execution_count": 32,
          "metadata": {},
          "output_type": "execute_result"
        }
      ],
      "source": [
        "# features with non-zero coefficients\n",
        "lasso_features = list(lasso.feature_names_in_[lasso.coef_ != 0])\n",
        "lasso_features"
      ]
    },
    {
      "cell_type": "markdown",
      "metadata": {
        "id": "mVEF3rPocd4K"
      },
      "source": [
        "11 of the 30 features had coefficients from LASSO regression while the remaining had coefficients that shrunk to 0. This includes the bill and pay amounts as seen from univariate screening, but now limit balance is included as well."
      ]
    },
    {
      "cell_type": "markdown",
      "metadata": {
        "id": "Sz4GZfKgz_MD"
      },
      "source": [
        "Using the code from a class demo, a LASSO path can be created to visualize the shrinkage of coefficients based on an increasing penalty term."
      ]
    },
    {
      "cell_type": "code",
      "execution_count": 33,
      "metadata": {
        "colab": {
          "base_uri": "https://localhost:8080/",
          "height": 507
        },
        "id": "arFa20wP-L9m",
        "outputId": "fcba7469-6003-4141-c880-4628e0efbd9e"
      },
      "outputs": [
        {
          "name": "stdout",
          "output_type": "stream",
          "text": [
            "Computing regularization path using the LARS ...\n",
            "."
          ]
        },
        {
          "data": {
            "image/png": "[encoded data removed]",
            "text/plain": [
              "<Figure size 640x480 with 1 Axes>"
            ]
          },
          "metadata": {},
          "output_type": "display_data"
        }
      ],
      "source": [
        "# code from class lecture\n",
        "X = X_train_eda.astype(float).to_numpy()\n",
        "y = y_train.to_numpy().ravel()\n",
        "\n",
        "print(\"Computing regularization path using the LARS ...\")\n",
        "_, _, coefs = linear_model.lars_path(X, y, method='lasso', verbose=True)\n",
        "\n",
        "xx = np.sum(np.abs(coefs.T), axis=1)\n",
        "xx /= xx[-1]\n",
        "\n",
        "plt.plot(xx, coefs.T)\n",
        "ymin, ymax = plt.ylim()\n",
        "plt.vlines(xx, ymin, ymax, linestyle='dashed')\n",
        "plt.xlabel('|coef| / max|coef|')\n",
        "plt.ylabel('Coefficients')\n",
        "plt.title('LASSO Path')\n",
        "plt.axis('tight')\n",
        "plt.show()"
      ]
    },
    {
      "cell_type": "markdown",
      "metadata": {
        "id": "R7AT5nlA0JnP"
      },
      "source": [
        "### Feature Importances"
      ]
    },
    {
      "cell_type": "markdown",
      "metadata": {
        "id": "y3yDHIl9mho3"
      },
      "source": [
        "The last feature selection method was feature importances. This is done by creating a default random forest model with all features and obtaining the impurity-based feature importances. These can then be ranked from high to low."
      ]
    },
    {
      "cell_type": "code",
      "execution_count": 34,
      "metadata": {
        "colab": {
          "base_uri": "https://localhost:8080/",
          "height": 1000
        },
        "id": "yGLzqI-5jggg",
        "outputId": "5db694bc-53d6-4ec4-cf0e-b2addf0c8dcb"
      },
      "outputs": [
        {
          "name": "stderr",
          "output_type": "stream",
          "text": [
            "c:\\Users\\shrey\\anaconda3\\envs\\STP_598\\Lib\\site-packages\\sklearn\\base.py:1365: DataConversionWarning: A column-vector y was passed when a 1d array was expected. Please change the shape of y to (n_samples,), for example using ravel().\n",
            "  return fit_method(estimator, *args, **kwargs)\n"
          ]
        },
        {
          "data": {
            "text/html": [
              "<div>\n",
              "<style scoped>\n",
              "    .dataframe tbody tr th:only-of-type {\n",
              "        vertical-align: middle;\n",
              "    }\n",
              "\n",
              "    .dataframe tbody tr th {\n",
              "        vertical-align: top;\n",
              "    }\n",
              "\n",
              "    .dataframe thead th {\n",
              "        text-align: right;\n",
              "    }\n",
              "</style>\n",
              "<table border=\"1\" class=\"dataframe\">\n",
              "  <thead>\n",
              "    <tr style=\"text-align: right;\">\n",
              "      <th></th>\n",
              "      <th>Feature</th>\n",
              "      <th>Importance</th>\n",
              "    </tr>\n",
              "  </thead>\n",
              "  <tbody>\n",
              "    <tr>\n",
              "      <th>2</th>\n",
              "      <td>PAY_0</td>\n",
              "      <td>0.096100</td>\n",
              "    </tr>\n",
              "    <tr>\n",
              "      <th>1</th>\n",
              "      <td>AGE</td>\n",
              "      <td>0.065943</td>\n",
              "    </tr>\n",
              "    <tr>\n",
              "      <th>0</th>\n",
              "      <td>LIMIT_BAL</td>\n",
              "      <td>0.060499</td>\n",
              "    </tr>\n",
              "    <tr>\n",
              "      <th>8</th>\n",
              "      <td>BILL_AMT1</td>\n",
              "      <td>0.059854</td>\n",
              "    </tr>\n",
              "    <tr>\n",
              "      <th>9</th>\n",
              "      <td>BILL_AMT2</td>\n",
              "      <td>0.053251</td>\n",
              "    </tr>\n",
              "    <tr>\n",
              "      <th>10</th>\n",
              "      <td>BILL_AMT3</td>\n",
              "      <td>0.052125</td>\n",
              "    </tr>\n",
              "    <tr>\n",
              "      <th>14</th>\n",
              "      <td>PAY_AMT1</td>\n",
              "      <td>0.051002</td>\n",
              "    </tr>\n",
              "    <tr>\n",
              "      <th>13</th>\n",
              "      <td>BILL_AMT6</td>\n",
              "      <td>0.050419</td>\n",
              "    </tr>\n",
              "    <tr>\n",
              "      <th>11</th>\n",
              "      <td>BILL_AMT4</td>\n",
              "      <td>0.050256</td>\n",
              "    </tr>\n",
              "    <tr>\n",
              "      <th>12</th>\n",
              "      <td>BILL_AMT5</td>\n",
              "      <td>0.049189</td>\n",
              "    </tr>\n",
              "    <tr>\n",
              "      <th>3</th>\n",
              "      <td>PAY_2</td>\n",
              "      <td>0.046566</td>\n",
              "    </tr>\n",
              "    <tr>\n",
              "      <th>19</th>\n",
              "      <td>PAY_AMT6</td>\n",
              "      <td>0.046462</td>\n",
              "    </tr>\n",
              "    <tr>\n",
              "      <th>15</th>\n",
              "      <td>PAY_AMT2</td>\n",
              "      <td>0.046374</td>\n",
              "    </tr>\n",
              "    <tr>\n",
              "      <th>16</th>\n",
              "      <td>PAY_AMT3</td>\n",
              "      <td>0.046226</td>\n",
              "    </tr>\n",
              "    <tr>\n",
              "      <th>17</th>\n",
              "      <td>PAY_AMT4</td>\n",
              "      <td>0.043516</td>\n",
              "    </tr>\n",
              "    <tr>\n",
              "      <th>18</th>\n",
              "      <td>PAY_AMT5</td>\n",
              "      <td>0.042883</td>\n",
              "    </tr>\n",
              "    <tr>\n",
              "      <th>4</th>\n",
              "      <td>PAY_3</td>\n",
              "      <td>0.029106</td>\n",
              "    </tr>\n",
              "    <tr>\n",
              "      <th>5</th>\n",
              "      <td>PAY_4</td>\n",
              "      <td>0.022471</td>\n",
              "    </tr>\n",
              "    <tr>\n",
              "      <th>6</th>\n",
              "      <td>PAY_5</td>\n",
              "      <td>0.019726</td>\n",
              "    </tr>\n",
              "    <tr>\n",
              "      <th>7</th>\n",
              "      <td>PAY_6</td>\n",
              "      <td>0.019644</td>\n",
              "    </tr>\n",
              "    <tr>\n",
              "      <th>28</th>\n",
              "      <td>MARRIAGE_MARRIED</td>\n",
              "      <td>0.012140</td>\n",
              "    </tr>\n",
              "    <tr>\n",
              "      <th>20</th>\n",
              "      <td>SEX_MALE</td>\n",
              "      <td>0.011815</td>\n",
              "    </tr>\n",
              "    <tr>\n",
              "      <th>23</th>\n",
              "      <td>EDUCATION_UNI</td>\n",
              "      <td>0.010684</td>\n",
              "    </tr>\n",
              "    <tr>\n",
              "      <th>22</th>\n",
              "      <td>EDUCATION_GRAD</td>\n",
              "      <td>0.009328</td>\n",
              "    </tr>\n",
              "    <tr>\n",
              "      <th>29</th>\n",
              "      <td>MARRIAGE_OTHER_3</td>\n",
              "      <td>0.001718</td>\n",
              "    </tr>\n",
              "    <tr>\n",
              "      <th>25</th>\n",
              "      <td>EDUCATION_OTHER_5</td>\n",
              "      <td>0.001239</td>\n",
              "    </tr>\n",
              "    <tr>\n",
              "      <th>27</th>\n",
              "      <td>MARRIAGE_OTHER_0</td>\n",
              "      <td>0.000533</td>\n",
              "    </tr>\n",
              "    <tr>\n",
              "      <th>24</th>\n",
              "      <td>EDUCATION_OTHER_4</td>\n",
              "      <td>0.000508</td>\n",
              "    </tr>\n",
              "    <tr>\n",
              "      <th>26</th>\n",
              "      <td>EDUCATION_OTHER_6</td>\n",
              "      <td>0.000419</td>\n",
              "    </tr>\n",
              "    <tr>\n",
              "      <th>21</th>\n",
              "      <td>EDUCATION_OTHER_0</td>\n",
              "      <td>0.000005</td>\n",
              "    </tr>\n",
              "  </tbody>\n",
              "</table>\n",
              "</div>"
            ],
            "text/plain": [
              "              Feature  Importance\n",
              "2               PAY_0    0.096100\n",
              "1                 AGE    0.065943\n",
              "0           LIMIT_BAL    0.060499\n",
              "8           BILL_AMT1    0.059854\n",
              "9           BILL_AMT2    0.053251\n",
              "10          BILL_AMT3    0.052125\n",
              "14           PAY_AMT1    0.051002\n",
              "13          BILL_AMT6    0.050419\n",
              "11          BILL_AMT4    0.050256\n",
              "12          BILL_AMT5    0.049189\n",
              "3               PAY_2    0.046566\n",
              "19           PAY_AMT6    0.046462\n",
              "15           PAY_AMT2    0.046374\n",
              "16           PAY_AMT3    0.046226\n",
              "17           PAY_AMT4    0.043516\n",
              "18           PAY_AMT5    0.042883\n",
              "4               PAY_3    0.029106\n",
              "5               PAY_4    0.022471\n",
              "6               PAY_5    0.019726\n",
              "7               PAY_6    0.019644\n",
              "28   MARRIAGE_MARRIED    0.012140\n",
              "20           SEX_MALE    0.011815\n",
              "23      EDUCATION_UNI    0.010684\n",
              "22     EDUCATION_GRAD    0.009328\n",
              "29   MARRIAGE_OTHER_3    0.001718\n",
              "25  EDUCATION_OTHER_5    0.001239\n",
              "27   MARRIAGE_OTHER_0    0.000533\n",
              "24  EDUCATION_OTHER_4    0.000508\n",
              "26  EDUCATION_OTHER_6    0.000419\n",
              "21  EDUCATION_OTHER_0    0.000005"
            ]
          },
          "execution_count": 34,
          "metadata": {},
          "output_type": "execute_result"
        }
      ],
      "source": [
        "# random forest with all features\n",
        "rf = RandomForestClassifier(random_state = 73)\n",
        "rf.fit(X_train_eda, y_train)\n",
        "\n",
        "# importance values in dataframe, ranked from high to low\n",
        "importances = pd.DataFrame({'Feature': rf.feature_names_in_,\n",
        "                            'Importance': rf.feature_importances_}).sort_values(by = 'Importance', ascending = False)\n",
        "importances"
      ]
    },
    {
      "cell_type": "code",
      "execution_count": 35,
      "metadata": {
        "colab": {
          "base_uri": "https://localhost:8080/",
          "height": 472
        },
        "id": "EFXtohvuZ7o0",
        "outputId": "d975a61c-90e6-4934-ad1e-468ea14f87cd"
      },
      "outputs": [
        {
          "data": {
            "image/png": "[encoded data removed]",
            "text/plain": [
              "<Figure size 640x480 with 1 Axes>"
            ]
          },
          "metadata": {},
          "output_type": "display_data"
        }
      ],
      "source": [
        "# visualize results in bar plot\n",
        "importances.sort_values(by = 'Importance',\n",
        "                        ascending = True).plot(kind = 'barh',\n",
        "                                               y = 'Importance',\n",
        "                                               x = 'Feature',\n",
        "                                               #xlim = (0.5, 1.0),\n",
        "                                               xlabel = 'Importance',\n",
        "                                               legend = False,\n",
        "                                               title = 'Feature Importances'\n",
        "                                               )\n",
        "plt.show()"
      ]
    },
    {
      "cell_type": "markdown",
      "metadata": {
        "id": "wocbXDZe0jYx"
      },
      "source": [
        "The results of this method are similar to the other two but with the inclusion of age this time. A cutoff of 0.02 for importances would allow for the top 20 of the features to be selected."
      ]
    },
    {
      "cell_type": "markdown",
      "metadata": {
        "id": "v6I7kE89nBbl"
      },
      "source": [
        "The following code selects features based on the results of univariate screening, lasso, and feature importances."
      ]
    },
    {
      "cell_type": "code",
      "execution_count": 36,
      "metadata": {
        "id": "7uNWp8nAmwea"
      },
      "outputs": [],
      "source": [
        "# select top features\n",
        "selected_features = importances['Feature'][importances['Importance'] > 0.02]"
      ]
    },
    {
      "cell_type": "markdown",
      "metadata": {
        "id": "DNpogMY-FLdn"
      },
      "source": [
        "## Model Training"
      ]
    },
    {
      "cell_type": "markdown",
      "metadata": {
        "id": "osLeXMm-dav4"
      },
      "source": [
        "We will compare 2 models for this project. One will include all the features from the dataset while the other will include only those selected from feature selection."
      ]
    },
    {
      "cell_type": "markdown",
      "metadata": {
        "id": "KdCTAmFw0w1z"
      },
      "source": [
        "First, a function can be created that calculates the metrics we are interested in."
      ]
    },
    {
      "cell_type": "code",
      "execution_count": 37,
      "metadata": {
        "id": "hPDm-5ikV9V5"
      },
      "outputs": [],
      "source": [
        "# calculate metrics based on model, x, and y\n",
        "def metric_calc(model, X, y):\n",
        "  # auc, precision, recall, accuracy, f1\n",
        "  auc = roc_auc_score(y, model.predict_proba(X)[:, 1])\n",
        "  precision = precision_score(y, model.predict(X))\n",
        "  recall = recall_score(y, model.predict(X))\n",
        "  accuracy = accuracy_score(y, model.predict(X))\n",
        "  f1 = f1_score(y, model.predict(X))\n",
        "\n",
        "  # return all metrics\n",
        "  return auc, precision, recall, accuracy, f1"
      ]
    },
    {
      "cell_type": "code",
      "execution_count": 38,
      "metadata": {
        "colab": {
          "base_uri": "https://localhost:8080/"
        },
        "id": "p4xT5FSAFNIx",
        "outputId": "c06e00af-d944-43c1-eea0-eaf1c15cb54c"
      },
      "outputs": [
        {
          "name": "stderr",
          "output_type": "stream",
          "text": [
            "c:\\Users\\shrey\\anaconda3\\envs\\STP_598\\Lib\\site-packages\\sklearn\\base.py:1365: DataConversionWarning: A column-vector y was passed when a 1d array was expected. Please change the shape of y to (n_samples,), for example using ravel().\n",
            "  return fit_method(estimator, *args, **kwargs)\n"
          ]
        },
        {
          "name": "stdout",
          "output_type": "stream",
          "text": [
            "(0.9999923511693474, 0.998932536293766, 0.9978673491149499, 0.9992857142857143, 0.9983996585938334)\n"
          ]
        }
      ],
      "source": [
        "# random forest all features\n",
        "rf_all = RandomForestClassifier(random_state = 73)\n",
        "rf_all.fit(X_train_eda, y_train)\n",
        "\n",
        "# model metrics\n",
        "print(metric_calc(rf_all, X_train_eda, y_train))"
      ]
    },
    {
      "cell_type": "code",
      "execution_count": 39,
      "metadata": {
        "colab": {
          "base_uri": "https://localhost:8080/"
        },
        "id": "VfsG3zWhHIb7",
        "outputId": "81a7cb3c-393a-4acf-bcc0-09d3ea7d9f3c"
      },
      "outputs": [
        {
          "name": "stderr",
          "output_type": "stream",
          "text": [
            "c:\\Users\\shrey\\anaconda3\\envs\\STP_598\\Lib\\site-packages\\sklearn\\base.py:1365: DataConversionWarning: A column-vector y was passed when a 1d array was expected. Please change the shape of y to (n_samples,), for example using ravel().\n",
            "  return fit_method(estimator, *args, **kwargs)\n"
          ]
        },
        {
          "name": "stdout",
          "output_type": "stream",
          "text": [
            "(0.9999322915050688, 0.9976420150053591, 0.9925357219023246, 0.9978095238095238, 0.9950823177250374)\n"
          ]
        }
      ],
      "source": [
        "# random forest: selected features\n",
        "rf_select = RandomForestClassifier(random_state = 73)\n",
        "rf_select.fit(X_train_eda[selected_features], y_train)\n",
        "\n",
        "# model metrics\n",
        "print(metric_calc(rf_select, X_train_eda[selected_features], y_train))"
      ]
    },
    {
      "cell_type": "markdown",
      "metadata": {
        "id": "uBxWLU7B0_zb"
      },
      "source": [
        "Since the model with the selected features performs just as well as the model with all features, it will be used in order to give a more parsimonious result."
      ]
    },
    {
      "cell_type": "markdown",
      "metadata": {
        "id": "8B1hbH_cmnLs"
      },
      "source": [
        "## Parameter Selection"
      ]
    },
    {
      "cell_type": "markdown",
      "metadata": {
        "id": "sv-ZnmeJ7PE_"
      },
      "source": [
        "Next, the hyperparameters will be tuned. This is done using randomized search with cross validation to select best parameters that prevent overfitting. Note that this code takes a while to run because of how many combinations are checked."
      ]
    },
    {
      "cell_type": "code",
      "execution_count": 40,
      "metadata": {
        "colab": {
          "base_uri": "https://localhost:8080/"
        },
        "id": "OH1rN7rbmm8o",
        "outputId": "21f47069-264b-405f-c487-f233381ed31f"
      },
      "outputs": [
        {
          "data": {
            "text/plain": [
              "{'bootstrap': True,\n",
              " 'ccp_alpha': 0.0,\n",
              " 'class_weight': None,\n",
              " 'criterion': 'gini',\n",
              " 'max_depth': None,\n",
              " 'max_features': 'sqrt',\n",
              " 'max_leaf_nodes': None,\n",
              " 'max_samples': None,\n",
              " 'min_impurity_decrease': 0.0,\n",
              " 'min_samples_leaf': 1,\n",
              " 'min_samples_split': 2,\n",
              " 'min_weight_fraction_leaf': 0.0,\n",
              " 'monotonic_cst': None,\n",
              " 'n_estimators': 100,\n",
              " 'n_jobs': None,\n",
              " 'oob_score': False,\n",
              " 'random_state': 73,\n",
              " 'verbose': 0,\n",
              " 'warm_start': False}"
            ]
          },
          "execution_count": 40,
          "metadata": {},
          "output_type": "execute_result"
        }
      ],
      "source": [
        "# current model parameters\n",
        "rf_all.get_params()"
      ]
    },
    {
      "cell_type": "code",
      "execution_count": 42,
      "metadata": {
        "colab": {
          "base_uri": "https://localhost:8080/"
        },
        "id": "YqVkbavooKJV",
        "outputId": "f2a62ca2-0a3d-4a4d-cc8e-9c1b30f845a5"
      },
      "outputs": [
        {
          "data": {
            "text/plain": [
              "{'n_estimators': [100, 200, 300, 400, 500, 600, 700, 800, 900, 1000],\n",
              " 'max_features': ['auto', 'sqrt'],\n",
              " 'max_depth': [10, 20, 30, 40, 50, 60, 70, 80, 90, 100, None],\n",
              " 'min_samples_split': [2, 5, 10],\n",
              " 'min_samples_leaf': [1, 2, 4]}"
            ]
          },
          "execution_count": 42,
          "metadata": {},
          "output_type": "execute_result"
        }
      ],
      "source": [
        "# potential values for parameters\n",
        "n_estimators = [int(x) for x in np.linspace(start = 100, stop = 1000, num = 10)]\n",
        "max_features = ['auto', 'sqrt']\n",
        "max_depth = [int(x) for x in np.linspace(10, 100, num = 10)]\n",
        "max_depth.append(None)\n",
        "min_samples_split = [2, 5, 10]\n",
        "min_samples_leaf = [1, 2, 4]\n",
        "\n",
        "# grid of potential parameter values\n",
        "random_grid = {'n_estimators': n_estimators,\n",
        "               'max_features': max_features,\n",
        "               'max_depth': max_depth,\n",
        "               'min_samples_split': min_samples_split,\n",
        "               'min_samples_leaf': min_samples_leaf}\n",
        "random_grid"
      ]
    },
    {
      "cell_type": "code",
      "execution_count": 43,
      "metadata": {
        "colab": {
          "base_uri": "https://localhost:8080/"
        },
        "collapsed": true,
        "id": "7fnKf6b6oqkK",
        "outputId": "31197774-fa8b-4d5f-d495-200c1e3bc7e7"
      },
      "outputs": [
        {
          "name": "stdout",
          "output_type": "stream",
          "text": [
            "Fitting 3 folds for each of 100 candidates, totalling 300 fits\n"
          ]
        },
        {
          "name": "stderr",
          "output_type": "stream",
          "text": [
            "c:\\Users\\shrey\\anaconda3\\envs\\STP_598\\Lib\\site-packages\\sklearn\\model_selection\\_validation.py:516: FitFailedWarning: \n",
            "138 fits failed out of a total of 300.\n",
            "The score on these train-test partitions for these parameters will be set to nan.\n",
            "If these failures are not expected, you can try to debug them by setting error_score='raise'.\n",
            "\n",
            "Below are more details about the failures:\n",
            "--------------------------------------------------------------------------------\n",
            "61 fits failed with the following error:\n",
            "Traceback (most recent call last):\n",
            "  File \"c:\\Users\\shrey\\anaconda3\\envs\\STP_598\\Lib\\site-packages\\sklearn\\model_selection\\_validation.py\", line 859, in _fit_and_score\n",
            "    estimator.fit(X_train, y_train, **fit_params)\n",
            "  File \"c:\\Users\\shrey\\anaconda3\\envs\\STP_598\\Lib\\site-packages\\sklearn\\base.py\", line 1358, in wrapper\n",
            "    estimator._validate_params()\n",
            "  File \"c:\\Users\\shrey\\anaconda3\\envs\\STP_598\\Lib\\site-packages\\sklearn\\base.py\", line 471, in _validate_params\n",
            "    validate_parameter_constraints(\n",
            "  File \"c:\\Users\\shrey\\anaconda3\\envs\\STP_598\\Lib\\site-packages\\sklearn\\utils\\_param_validation.py\", line 98, in validate_parameter_constraints\n",
            "    raise InvalidParameterError(\n",
            "sklearn.utils._param_validation.InvalidParameterError: The 'max_features' parameter of RandomForestClassifier must be an int in the range [1, inf), a float in the range (0.0, 1.0], a str among {'sqrt', 'log2'} or None. Got 'auto' instead.\n",
            "\n",
            "--------------------------------------------------------------------------------\n",
            "77 fits failed with the following error:\n",
            "Traceback (most recent call last):\n",
            "  File \"c:\\Users\\shrey\\anaconda3\\envs\\STP_598\\Lib\\site-packages\\sklearn\\model_selection\\_validation.py\", line 859, in _fit_and_score\n",
            "    estimator.fit(X_train, y_train, **fit_params)\n",
            "  File \"c:\\Users\\shrey\\anaconda3\\envs\\STP_598\\Lib\\site-packages\\sklearn\\base.py\", line 1358, in wrapper\n",
            "    estimator._validate_params()\n",
            "  File \"c:\\Users\\shrey\\anaconda3\\envs\\STP_598\\Lib\\site-packages\\sklearn\\base.py\", line 471, in _validate_params\n",
            "    validate_parameter_constraints(\n",
            "  File \"c:\\Users\\shrey\\anaconda3\\envs\\STP_598\\Lib\\site-packages\\sklearn\\utils\\_param_validation.py\", line 98, in validate_parameter_constraints\n",
            "    raise InvalidParameterError(\n",
            "sklearn.utils._param_validation.InvalidParameterError: The 'max_features' parameter of RandomForestClassifier must be an int in the range [1, inf), a float in the range (0.0, 1.0], a str among {'log2', 'sqrt'} or None. Got 'auto' instead.\n",
            "\n",
            "  warnings.warn(some_fits_failed_message, FitFailedWarning)\n",
            "c:\\Users\\shrey\\anaconda3\\envs\\STP_598\\Lib\\site-packages\\sklearn\\model_selection\\_search.py:1135: UserWarning: One or more of the test scores are non-finite: [       nan        nan 0.81719048        nan        nan 0.81938095\n",
            "        nan 0.81890476        nan 0.81714286        nan 0.81914286\n",
            "        nan 0.81819048 0.81880952 0.81704762 0.81914286 0.81904762\n",
            "        nan 0.8187619         nan        nan        nan        nan\n",
            "        nan 0.8187619  0.81966667        nan 0.81890476        nan\n",
            " 0.81880952        nan        nan 0.81890476        nan        nan\n",
            " 0.81842857 0.81904762 0.81980952        nan 0.81866667 0.81895238\n",
            " 0.8192381  0.81866667 0.81909524 0.81938095        nan 0.81880952\n",
            " 0.81952381        nan        nan 0.81938095 0.8192381  0.81938095\n",
            "        nan        nan        nan 0.81861905        nan        nan\n",
            "        nan 0.81933333        nan        nan 0.81961905 0.81961905\n",
            "        nan 0.81914286        nan 0.81938095 0.819      0.81785714\n",
            " 0.8192381  0.817             nan        nan        nan        nan\n",
            " 0.81871429 0.81757143        nan 0.81942857        nan 0.81790476\n",
            " 0.81871429        nan 0.81866667        nan 0.81871429 0.81904762\n",
            " 0.81871429        nan 0.8187619  0.81952381 0.81961905 0.81671429\n",
            "        nan        nan        nan 0.81828571]\n",
            "  warnings.warn(\n",
            "c:\\Users\\shrey\\anaconda3\\envs\\STP_598\\Lib\\site-packages\\sklearn\\base.py:1365: DataConversionWarning: A column-vector y was passed when a 1d array was expected. Please change the shape of y to (n_samples,), for example using ravel().\n",
            "  return fit_method(estimator, *args, **kwargs)\n"
          ]
        },
        {
          "data": {
            "text/plain": [
              "{'n_estimators': 700,\n",
              " 'min_samples_split': 10,\n",
              " 'min_samples_leaf': 2,\n",
              " 'max_features': 'sqrt',\n",
              " 'max_depth': 70}"
            ]
          },
          "execution_count": 43,
          "metadata": {},
          "output_type": "execute_result"
        }
      ],
      "source": [
        "# randomized search\n",
        "rf_search = RandomizedSearchCV(estimator = rf_all,\n",
        "                               param_distributions = random_grid,\n",
        "                               n_iter = 100, cv = 3, verbose = 2,\n",
        "                               random_state = 73, n_jobs = -1)\n",
        "rf_search.fit(X_train_eda, y_train)\n",
        "\n",
        "# result of search\n",
        "rf_search.best_params_"
      ]
    },
    {
      "cell_type": "code",
      "execution_count": 45,
      "metadata": {
        "colab": {
          "base_uri": "https://localhost:8080/"
        },
        "id": "a4JJTKEFusOX",
        "outputId": "6d4c231c-7884-4dc1-fccd-f8a6df4da851"
      },
      "outputs": [
        {
          "name": "stdout",
          "output_type": "stream",
          "text": [
            "{'n_estimators': 700, 'min_samples_split': 10, 'min_samples_leaf': 2, 'max_features': 'sqrt', 'max_depth': 70}\n"
          ]
        }
      ],
      "source": [
        "print(rf_search.best_params_)"
      ]
    },
    {
      "cell_type": "markdown",
      "metadata": {
        "id": "qNhT6MW7aU-v"
      },
      "source": [
        "## Model with Parameters and Selected Features"
      ]
    },
    {
      "cell_type": "markdown",
      "metadata": {
        "id": "5m46nHxe1q2N"
      },
      "source": [
        "Now the final model with the selected features and parameters can be built."
      ]
    },
    {
      "cell_type": "code",
      "execution_count": 46,
      "metadata": {
        "colab": {
          "base_uri": "https://localhost:8080/"
        },
        "id": "l-pDi0MAaUp6",
        "outputId": "9b8370ec-407f-425f-b7aa-d13b54f3fd32"
      },
      "outputs": [
        {
          "name": "stderr",
          "output_type": "stream",
          "text": [
            "c:\\Users\\shrey\\anaconda3\\envs\\STP_598\\Lib\\site-packages\\sklearn\\base.py:1365: DataConversionWarning: A column-vector y was passed when a 1d array was expected. Please change the shape of y to (n_samples,), for example using ravel().\n",
            "  return fit_method(estimator, *args, **kwargs)\n"
          ]
        },
        {
          "name": "stdout",
          "output_type": "stream",
          "text": [
            "(0.9765764955827219, 0.9230491329479769, 0.544892301130305, 0.8882380952380953, 0.6852621697733673)\n"
          ]
        }
      ],
      "source": [
        "# random forest, selected features + parameters\n",
        "rf_final = RandomForestClassifier(n_estimators = 300,\n",
        "                                  min_samples_split = 10,\n",
        "                                  min_samples_leaf = 4,\n",
        "                                  max_features = 'sqrt',\n",
        "                                  max_depth = 100,\n",
        "                                  random_state = 73)\n",
        "rf_final.fit(X_train_eda[selected_features], y_train)\n",
        "\n",
        "# metrics on training data\n",
        "print(metric_calc(rf_final, X_train_eda[selected_features], y_train))"
      ]
    },
    {
      "cell_type": "markdown",
      "metadata": {
        "id": "fbxq0LSqco9I"
      },
      "source": [
        "## Set Up Test Data"
      ]
    },
    {
      "cell_type": "markdown",
      "metadata": {
        "id": "EYDjAO9o1x9X"
      },
      "source": [
        "In order to better evaluate the performance of the model, the testing dataset will be set up. It will follow the same format as the training data to avoid data leakage and any inconsistencies.  "
      ]
    },
    {
      "cell_type": "code",
      "execution_count": 47,
      "metadata": {
        "colab": {
          "base_uri": "https://localhost:8080/",
          "height": 273
        },
        "id": "POIeqBwocrWt",
        "outputId": "fee67f76-3e42-49d0-af78-7771596bbba8"
      },
      "outputs": [
        {
          "name": "stdout",
          "output_type": "stream",
          "text": [
            "(9000, 30)\n"
          ]
        },
        {
          "data": {
            "text/html": [
              "<div>\n",
              "<style scoped>\n",
              "    .dataframe tbody tr th:only-of-type {\n",
              "        vertical-align: middle;\n",
              "    }\n",
              "\n",
              "    .dataframe tbody tr th {\n",
              "        vertical-align: top;\n",
              "    }\n",
              "\n",
              "    .dataframe thead th {\n",
              "        text-align: right;\n",
              "    }\n",
              "</style>\n",
              "<table border=\"1\" class=\"dataframe\">\n",
              "  <thead>\n",
              "    <tr style=\"text-align: right;\">\n",
              "      <th></th>\n",
              "      <th>LIMIT_BAL</th>\n",
              "      <th>AGE</th>\n",
              "      <th>PAY_0</th>\n",
              "      <th>PAY_2</th>\n",
              "      <th>PAY_3</th>\n",
              "      <th>PAY_4</th>\n",
              "      <th>PAY_5</th>\n",
              "      <th>PAY_6</th>\n",
              "      <th>BILL_AMT1</th>\n",
              "      <th>BILL_AMT2</th>\n",
              "      <th>...</th>\n",
              "      <th>SEX_MALE</th>\n",
              "      <th>EDUCATION_OTHER_0</th>\n",
              "      <th>EDUCATION_GRAD</th>\n",
              "      <th>EDUCATION_UNI</th>\n",
              "      <th>EDUCATION_OTHER_4</th>\n",
              "      <th>EDUCATION_OTHER_5</th>\n",
              "      <th>EDUCATION_OTHER_6</th>\n",
              "      <th>MARRIAGE_OTHER_0</th>\n",
              "      <th>MARRIAGE_MARRIED</th>\n",
              "      <th>MARRIAGE_OTHER_3</th>\n",
              "    </tr>\n",
              "  </thead>\n",
              "  <tbody>\n",
              "    <tr>\n",
              "      <th>3385</th>\n",
              "      <td>200000</td>\n",
              "      <td>32</td>\n",
              "      <td>-2</td>\n",
              "      <td>-2</td>\n",
              "      <td>-2</td>\n",
              "      <td>-2</td>\n",
              "      <td>-2</td>\n",
              "      <td>-2</td>\n",
              "      <td>6540</td>\n",
              "      <td>17288</td>\n",
              "      <td>...</td>\n",
              "      <td>0</td>\n",
              "      <td>0</td>\n",
              "      <td>1</td>\n",
              "      <td>0</td>\n",
              "      <td>0</td>\n",
              "      <td>0</td>\n",
              "      <td>0</td>\n",
              "      <td>0</td>\n",
              "      <td>1</td>\n",
              "      <td>0</td>\n",
              "    </tr>\n",
              "    <tr>\n",
              "      <th>6415</th>\n",
              "      <td>80000</td>\n",
              "      <td>47</td>\n",
              "      <td>0</td>\n",
              "      <td>0</td>\n",
              "      <td>0</td>\n",
              "      <td>0</td>\n",
              "      <td>0</td>\n",
              "      <td>0</td>\n",
              "      <td>52690</td>\n",
              "      <td>51560</td>\n",
              "      <td>...</td>\n",
              "      <td>1</td>\n",
              "      <td>0</td>\n",
              "      <td>0</td>\n",
              "      <td>1</td>\n",
              "      <td>0</td>\n",
              "      <td>0</td>\n",
              "      <td>0</td>\n",
              "      <td>0</td>\n",
              "      <td>1</td>\n",
              "      <td>0</td>\n",
              "    </tr>\n",
              "    <tr>\n",
              "      <th>6737</th>\n",
              "      <td>390000</td>\n",
              "      <td>47</td>\n",
              "      <td>1</td>\n",
              "      <td>-1</td>\n",
              "      <td>-1</td>\n",
              "      <td>-2</td>\n",
              "      <td>-1</td>\n",
              "      <td>-1</td>\n",
              "      <td>0</td>\n",
              "      <td>3760</td>\n",
              "      <td>...</td>\n",
              "      <td>1</td>\n",
              "      <td>0</td>\n",
              "      <td>1</td>\n",
              "      <td>0</td>\n",
              "      <td>0</td>\n",
              "      <td>0</td>\n",
              "      <td>0</td>\n",
              "      <td>0</td>\n",
              "      <td>0</td>\n",
              "      <td>0</td>\n",
              "    </tr>\n",
              "    <tr>\n",
              "      <th>29527</th>\n",
              "      <td>180000</td>\n",
              "      <td>39</td>\n",
              "      <td>-1</td>\n",
              "      <td>-1</td>\n",
              "      <td>-1</td>\n",
              "      <td>-1</td>\n",
              "      <td>-1</td>\n",
              "      <td>-1</td>\n",
              "      <td>715</td>\n",
              "      <td>4637</td>\n",
              "      <td>...</td>\n",
              "      <td>1</td>\n",
              "      <td>0</td>\n",
              "      <td>0</td>\n",
              "      <td>1</td>\n",
              "      <td>0</td>\n",
              "      <td>0</td>\n",
              "      <td>0</td>\n",
              "      <td>0</td>\n",
              "      <td>0</td>\n",
              "      <td>0</td>\n",
              "    </tr>\n",
              "    <tr>\n",
              "      <th>26720</th>\n",
              "      <td>50000</td>\n",
              "      <td>26</td>\n",
              "      <td>0</td>\n",
              "      <td>0</td>\n",
              "      <td>0</td>\n",
              "      <td>0</td>\n",
              "      <td>0</td>\n",
              "      <td>0</td>\n",
              "      <td>47052</td>\n",
              "      <td>47874</td>\n",
              "      <td>...</td>\n",
              "      <td>1</td>\n",
              "      <td>0</td>\n",
              "      <td>0</td>\n",
              "      <td>1</td>\n",
              "      <td>0</td>\n",
              "      <td>0</td>\n",
              "      <td>0</td>\n",
              "      <td>0</td>\n",
              "      <td>0</td>\n",
              "      <td>0</td>\n",
              "    </tr>\n",
              "  </tbody>\n",
              "</table>\n",
              "<p>5 rows × 30 columns</p>\n",
              "</div>"
            ],
            "text/plain": [
              "       LIMIT_BAL  AGE  PAY_0  PAY_2  PAY_3  PAY_4  PAY_5  PAY_6  BILL_AMT1  \\\n",
              "3385      200000   32     -2     -2     -2     -2     -2     -2       6540   \n",
              "6415       80000   47      0      0      0      0      0      0      52690   \n",
              "6737      390000   47      1     -1     -1     -2     -1     -1          0   \n",
              "29527     180000   39     -1     -1     -1     -1     -1     -1        715   \n",
              "26720      50000   26      0      0      0      0      0      0      47052   \n",
              "\n",
              "       BILL_AMT2  ...  SEX_MALE  EDUCATION_OTHER_0  EDUCATION_GRAD  \\\n",
              "3385       17288  ...         0                  0               1   \n",
              "6415       51560  ...         1                  0               0   \n",
              "6737        3760  ...         1                  0               1   \n",
              "29527       4637  ...         1                  0               0   \n",
              "26720      47874  ...         1                  0               0   \n",
              "\n",
              "       EDUCATION_UNI  EDUCATION_OTHER_4  EDUCATION_OTHER_5  EDUCATION_OTHER_6  \\\n",
              "3385               0                  0                  0                  0   \n",
              "6415               1                  0                  0                  0   \n",
              "6737               0                  0                  0                  0   \n",
              "29527              1                  0                  0                  0   \n",
              "26720              1                  0                  0                  0   \n",
              "\n",
              "       MARRIAGE_OTHER_0  MARRIAGE_MARRIED  MARRIAGE_OTHER_3  \n",
              "3385                  0                 1                 0  \n",
              "6415                  0                 1                 0  \n",
              "6737                  0                 0                 0  \n",
              "29527                 0                 0                 0  \n",
              "26720                 0                 0                 0  \n",
              "\n",
              "[5 rows x 30 columns]"
            ]
          },
          "execution_count": 47,
          "metadata": {},
          "output_type": "execute_result"
        }
      ],
      "source": [
        "# one hot encode and create indicator for test data using same code from training\n",
        "\n",
        "# identify cateogrical features\n",
        "categorical = ['SEX', 'EDUCATION', 'MARRIAGE']\n",
        "\n",
        "# one hot encode categorical features\n",
        "cat_dummies = pd.get_dummies(X_test[categorical].astype(str)).astype(int)\n",
        "\n",
        "# rename columns according to data description\n",
        "cat_dummies.rename({'SEX_1': 'SEX_MALE',\n",
        "                    'SEX_2': 'SEX_FEMALE',\n",
        "                    'EDUCATION_1': 'EDUCATION_GRAD',\n",
        "                    'EDUCATION_2': 'EDUCATION_UNI',\n",
        "                    'EDUCATION_3': 'EDUCATION_HS',\n",
        "                    'EDUCATION_4': 'EDUCATION_OTHER_4',\n",
        "                    'EDUCATION_5': 'EDUCATION_OTHER_5',\n",
        "                    'EDUCATION_6': 'EDUCATION_OTHER_6',\n",
        "                    'EDUCATION_0': 'EDUCATION_OTHER_0',\n",
        "                    'MARRIAGE_1': 'MARRIAGE_MARRIED',\n",
        "                    'MARRIAGE_2': 'MARRIAGE_SINGLE',\n",
        "                    'MARRIAGE_3': 'MARRIAGE_OTHER_3',\n",
        "                    'MARRIAGE_0': 'MARRIAGE_OTHER_0'\n",
        "                  }, axis = 'columns', inplace = True)\n",
        "\n",
        "# drop one column for each category as reference\n",
        "cat_dummies.drop(['SEX_FEMALE', 'EDUCATION_HS', 'MARRIAGE_SINGLE'], axis = 1,\n",
        "                 inplace = True)\n",
        "\n",
        "# include dummy encoding in X_train and remove original categorical\n",
        "X_test_set = pd.concat([X_test.drop(categorical, axis = 1), cat_dummies], axis = 1)\n",
        "\n",
        "# shape and overview\n",
        "print(X_test_set.shape)\n",
        "X_test_set.head()"
      ]
    },
    {
      "cell_type": "markdown",
      "metadata": {
        "id": "DWsTNa4dFNqP"
      },
      "source": [
        "## Evaluate Model"
      ]
    },
    {
      "cell_type": "markdown",
      "metadata": {
        "id": "H6_FEA621755"
      },
      "source": [
        "To evaluate the model on the test dataset, use the function defined above. This includes using the final model, the test data with selected features, and the test target as inputs."
      ]
    },
    {
      "cell_type": "code",
      "execution_count": 48,
      "metadata": {
        "colab": {
          "base_uri": "https://localhost:8080/"
        },
        "id": "-IMIpp1jiG62",
        "outputId": "c749c43f-4ba0-4106-c477-82a5d36f2d44"
      },
      "outputs": [
        {
          "name": "stdout",
          "output_type": "stream",
          "text": [
            "(0.7706175219963078, 0.6577736890524379, 0.3672316384180791, 0.8217777777777778, 0.4713249835201055)\n"
          ]
        }
      ],
      "source": [
        "print(metric_calc(rf_final, X_test_set[selected_features], y_test))"
      ]
    },
    {
      "cell_type": "markdown",
      "metadata": {
        "id": "6qZsk0cm2S_V"
      },
      "source": [
        "The results show that the model gives decent results from AUC and accuracy but definitely needs improvement for precision, recall, and f1 score. There is also a decrease from train to test metrics which is expected but could be further prevented."
      ]
    },
    {
      "cell_type": "code",
      "execution_count": 49,
      "metadata": {},
      "outputs": [
        {
          "name": "stdout",
          "output_type": "stream",
          "text": [
            "Model saved as rf_final.joblib\n"
          ]
        }
      ],
      "source": [
        "import joblib\n",
        "\n",
        "# Save the trained model to a file\n",
        "joblib.dump(rf_final, 'rf_final.joblib')\n",
        "\n",
        "print(\"Model saved as rf_final.joblib\")"
      ]
    },
    {
      "cell_type": "code",
      "execution_count": null,
      "metadata": {},
      "outputs": [],
      "source": []
    }
  ],
  "metadata": {
    "colab": {
      "provenance": []
    },
    "kernelspec": {
      "display_name": "STP_598",
      "language": "python",
      "name": "python3"
    },
    "language_info": {
      "codemirror_mode": {
        "name": "ipython",
        "version": 3
      },
      "file_extension": ".py",
      "mimetype": "text/x-python",
      "name": "python",
      "nbconvert_exporter": "python",
      "pygments_lexer": "ipython3",
      "version": "3.12.4"
    }
  },
  "nbformat": 4,
  "nbformat_minor": 0
}
